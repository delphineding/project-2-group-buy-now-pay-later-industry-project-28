{
 "cells": [
  {
   "cell_type": "markdown",
   "metadata": {},
   "source": [
    "# Preliminary Analysis"
   ]
  },
  {
   "cell_type": "markdown",
   "metadata": {},
   "source": [
    "This notebook involves the preliminary analysis and preprocessing on all datasets."
   ]
  },
  {
   "cell_type": "markdown",
   "metadata": {},
   "source": [
    "---"
   ]
  },
  {
   "cell_type": "markdown",
   "metadata": {},
   "source": [
    "BNPL Data timeline: 2021-2-28 to 2022-10-26"
   ]
  },
  {
   "cell_type": "code",
   "execution_count": 25,
   "metadata": {},
   "outputs": [],
   "source": [
    "from pyspark.sql import SparkSession\n",
    "from pyspark.sql.functions import* \n",
    "from pyspark.sql.functions import regexp_replace, col, trim, split\n",
    "import pandas as pd\n",
    "import geopandas as gpd"
   ]
  },
  {
   "cell_type": "code",
   "execution_count": 26,
   "metadata": {},
   "outputs": [],
   "source": [
    "spark = (\n",
    "    SparkSession.builder.appName(\"Preliminary Analysis\")\n",
    "    .config(\"spark.sql.repl.eagerEval.enabled\", True) \n",
    "    .config(\"spark.driver.memory\",\"4G\")\n",
    "    .config(\"spark.executor.memory\",\"4G\")\n",
    "    .config(\"spark.sql.parquet.cacheMetadata\", \"true\")\n",
    "    .config(\"spark.sql.session.timeZone\", \"Etc/UTC\")\n",
    "    .getOrCreate()\n",
    ")"
   ]
  },
  {
   "cell_type": "markdown",
   "metadata": {},
   "source": [
    "# BNPL dataset"
   ]
  },
  {
   "cell_type": "markdown",
   "metadata": {},
   "source": [
    "## Table 1"
   ]
  },
  {
   "cell_type": "markdown",
   "metadata": {},
   "source": [
    "### Merchant datasets"
   ]
  },
  {
   "cell_type": "code",
   "execution_count": 27,
   "metadata": {},
   "outputs": [],
   "source": [
    "merchant_fraud = spark.read.csv('../data/tables/tables 1/merchant_fraud_probability.csv', header=True, inferSchema=True)\n",
    "tbl_merchants = spark.read.parquet('../data/tables/tables 1/tbl_merchants.parquet')"
   ]
  },
  {
   "cell_type": "code",
   "execution_count": 28,
   "metadata": {},
   "outputs": [
    {
     "name": "stdout",
     "output_type": "stream",
     "text": [
      "61\n"
     ]
    },
    {
     "data": {
      "text/plain": [
       "4026"
      ]
     },
     "execution_count": 28,
     "metadata": {},
     "output_type": "execute_result"
    }
   ],
   "source": [
    "print(merchant_fraud.select('merchant_abn').distinct().count())\n",
    "tbl_merchants.select('merchant_abn').distinct().count()"
   ]
  },
  {
   "cell_type": "markdown",
   "metadata": {},
   "source": [
    "### Join Merchant datasets"
   ]
  },
  {
   "cell_type": "code",
   "execution_count": 29,
   "metadata": {},
   "outputs": [
    {
     "name": "stdout",
     "output_type": "stream",
     "text": [
      "+------------+--------------+-----------------+--------------------+--------------------+\n",
      "|merchant_abn|order_datetime|fraud_probability|                name|                tags|\n",
      "+------------+--------------+-----------------+--------------------+--------------------+\n",
      "| 10023283211|          NULL|             NULL|       Felis Limited|((furniture, home...|\n",
      "| 10142254217|          NULL|             NULL|Arcu Ac Orci Corp...|([cable, satellit...|\n",
      "| 10165489824|          NULL|             NULL|    Nunc Sed Company|([jewelry, watch,...|\n",
      "| 10187291046|          NULL|             NULL|Ultricies Digniss...|([wAtch, clock, a...|\n",
      "| 10192359162|          NULL|             NULL| Enim Condimentum PC|([music shops - m...|\n",
      "| 10206519221|          NULL|             NULL|       Fusce Company|[(gift, card, nov...|\n",
      "| 10255988167|          NULL|             NULL|Aliquam Enim Inco...|[(computers, comP...|\n",
      "| 10264435225|          NULL|             NULL|    Ipsum Primis Ltd|[[watch, clock, a...|\n",
      "| 10279061213|          NULL|             NULL|Pede Ultrices Ind...|([computer progra...|\n",
      "| 10323485998|          NULL|             NULL|           Nunc Inc.|[(furniture, home...|\n",
      "+------------+--------------+-----------------+--------------------+--------------------+\n",
      "only showing top 10 rows\n",
      "\n"
     ]
    }
   ],
   "source": [
    "merchant_table = merchant_fraud.join(tbl_merchants, on=\"merchant_abn\", how=\"right\")\n",
    "merchant_table.show(10)"
   ]
  },
  {
   "cell_type": "code",
   "execution_count": 30,
   "metadata": {},
   "outputs": [
    {
     "data": {
      "text/plain": [
       "4073"
      ]
     },
     "execution_count": 30,
     "metadata": {},
     "output_type": "execute_result"
    }
   ],
   "source": [
    "merchant_table.count()"
   ]
  },
  {
   "cell_type": "code",
   "execution_count": 31,
   "metadata": {},
   "outputs": [],
   "source": [
    "# convert all string to lowercase\n",
    "merchant_table = merchant_table.withColumn(\"name\", lower(col(\"name\"))) \\\n",
    "                               .withColumn(\"tags\", lower(col(\"tags\")))"
   ]
  },
  {
   "cell_type": "code",
   "execution_count": 32,
   "metadata": {},
   "outputs": [],
   "source": [
    "# convert all brackets to []\n",
    "\n",
    "# replace '(' with '['\n",
    "merchant_table = merchant_table.withColumn(\"tags_converted\", regexp_replace(col(\"tags\"), r'\\(', '['))\n",
    "\n",
    "# replace ')' with ']'\n",
    "merchant_table = merchant_table.withColumn(\"tags_converted\", regexp_replace(col(\"tags_converted\"), \n",
    "                                                                            r'\\)', ']'))\n"
   ]
  },
  {
   "cell_type": "code",
   "execution_count": 33,
   "metadata": {},
   "outputs": [
    {
     "name": "stdout",
     "output_type": "stream",
     "text": [
      "+------------+--------------+-----------------+--------------------+--------------------+-------------+---------+\n",
      "|merchant_abn|order_datetime|fraud_probability|                name|            category|revenue_level|take_rate|\n",
      "+------------+--------------+-----------------+--------------------+--------------------+-------------+---------+\n",
      "| 10023283211|          NULL|             NULL|       felis limited|furniture, home f...|            e|     0.18|\n",
      "| 10142254217|          NULL|             NULL|arcu ac orci corp...|cable, satellite,...|            b|     4.22|\n",
      "| 10165489824|          NULL|             NULL|    nunc sed company|jewelry, watch, c...|            b|     4.40|\n",
      "| 10187291046|          NULL|             NULL|ultricies digniss...|watch, clock, and...|            b|     3.29|\n",
      "| 10192359162|          NULL|             NULL| enim condimentum pc|music shops - mus...|            a|     6.33|\n",
      "+------------+--------------+-----------------+--------------------+--------------------+-------------+---------+\n",
      "only showing top 5 rows\n",
      "\n"
     ]
    }
   ],
   "source": [
    "# split the elements by '], [' to get the three parts\n",
    "split_col = split(col(\"tags_converted\"), r'\\], \\[')\n",
    "\n",
    "# clean up each part and assign them to separate columns\n",
    "merchant_table = merchant_table.withColumn(\"category\", trim(regexp_replace(split_col.getItem(0), r'^\\[|\\]$', ''))) \\\n",
    "                               .withColumn(\"revenue_level\", trim(regexp_replace(split_col.getItem(1), r'^\\[|\\]$', ''))) \\\n",
    "                               .withColumn(\"take_rate\", trim(regexp_replace(split_col.getItem(2), r'^\\[take rate: |\\]$', '')))\n",
    "\n",
    "# keep only numeric values\n",
    "merchant_table = merchant_table.withColumn(\"category\", regexp_replace(col(\"category\"), r'^\\[|\\]$', ''))\n",
    "merchant_table = merchant_table.withColumn(\"take_rate\", regexp_replace(col(\"take_rate\"), r'[^\\d.]+', ''))\n",
    "\n",
    "merchant_table = merchant_table.drop('tags', 'tags_converted')\n",
    "merchant_table.show(5)"
   ]
  },
  {
   "cell_type": "code",
   "execution_count": 34,
   "metadata": {},
   "outputs": [
    {
     "name": "stdout",
     "output_type": "stream",
     "text": [
      "root\n",
      " |-- merchant_abn: long (nullable = true)\n",
      " |-- order_datetime: date (nullable = true)\n",
      " |-- fraud_probability: double (nullable = true)\n",
      " |-- name: string (nullable = true)\n",
      " |-- category: string (nullable = true)\n",
      " |-- revenue_level: string (nullable = true)\n",
      " |-- take_rate: string (nullable = true)\n",
      "\n"
     ]
    }
   ],
   "source": [
    "merchant_table.printSchema()"
   ]
  },
  {
   "cell_type": "code",
   "execution_count": 35,
   "metadata": {},
   "outputs": [
    {
     "name": "stdout",
     "output_type": "stream",
     "text": [
      "root\n",
      " |-- merchant_abn: long (nullable = true)\n",
      " |-- order_datetime: date (nullable = true)\n",
      " |-- fraud_probability: double (nullable = true)\n",
      " |-- name: string (nullable = true)\n",
      " |-- category: string (nullable = true)\n",
      " |-- revenue_level: string (nullable = true)\n",
      " |-- take_rate: float (nullable = true)\n",
      "\n"
     ]
    }
   ],
   "source": [
    "# convert the `take_rate` column from string type to float type\n",
    "merchant_table = merchant_table.withColumn(\"take_rate\", col(\"take_rate\").cast(\"float\"))\n",
    "merchant_table.printSchema()"
   ]
  },
  {
   "cell_type": "code",
   "execution_count": 36,
   "metadata": {},
   "outputs": [
    {
     "name": "stdout",
     "output_type": "stream",
     "text": [
      "+------------+--------------+-----------------+----+--------+-------------+---------+\n",
      "|merchant_abn|order_datetime|fraud_probability|name|category|revenue_level|take_rate|\n",
      "+------------+--------------+-----------------+----+--------+-------------+---------+\n",
      "+------------+--------------+-----------------+----+--------+-------------+---------+\n",
      "\n"
     ]
    }
   ],
   "source": [
    "# check for invalid fraud probabilities - none\n",
    "invalid_fraud_prob = merchant_table.filter((col(\"fraud_probability\") < 0) | (col(\"fraud_probability\") > 100))\n",
    "invalid_fraud_prob.show(truncate=False)"
   ]
  },
  {
   "cell_type": "code",
   "execution_count": 37,
   "metadata": {},
   "outputs": [
    {
     "name": "stdout",
     "output_type": "stream",
     "text": [
      "There are 0 missing values in the 'merchant_abn' column.\n",
      "There are 3978 missing values in the 'order_datetime' column.\n",
      "There are 3978 missing values in the 'fraud_probability' column.\n",
      "There are 0 missing values in the 'name' column.\n",
      "There are 0 missing values in the 'category' column.\n",
      "There are 0 missing values in the 'revenue_level' column.\n",
      "There are 0 missing values in the 'take_rate' column.\n"
     ]
    }
   ],
   "source": [
    "# check missing values\n",
    "# all columns in the DataFrame\n",
    "columns = merchant_table.columns\n",
    "\n",
    "# count missing values for each column\n",
    "missing_values_expr = [sum(col(c).isNull().cast(\"int\")).alias(c) for c in columns]\n",
    "missing_counts = merchant_table.select(*missing_values_expr).collect()[0].asDict()\n",
    "\n",
    "# missing values count for each column\n",
    "for column, count in missing_counts.items():\n",
    "    print(f\"There are {count} missing values in the '{column}' column.\")"
   ]
  },
  {
   "cell_type": "code",
   "execution_count": 38,
   "metadata": {},
   "outputs": [
    {
     "data": {
      "text/html": [
       "<table border='1'>\n",
       "<tr><th>summary</th><th>merchant_abn</th><th>fraud_probability</th><th>name</th><th>category</th><th>revenue_level</th><th>take_rate</th></tr>\n",
       "<tr><td>count</td><td>4073</td><td>95</td><td>4073</td><td>4073</td><td>4073</td><td>4073</td></tr>\n",
       "<tr><td>mean</td><td>5.443029800201424E10</td><td>39.517386707313435</td><td>NULL</td><td>NULL</td><td>NULL</td><td>4.3947974442978355</td></tr>\n",
       "<tr><td>stddev</td><td>2.605832899933888...</td><td>16.617441988139745</td><td>NULL</td><td>NULL</td><td>NULL</td><td>1.7767356429512193</td></tr>\n",
       "<tr><td>min</td><td>10023283211</td><td>18.21089142894488</td><td>a aliquet ltd</td><td>antique shops -  ...</td><td>a</td><td>0.1</td></tr>\n",
       "<tr><td>max</td><td>99990536339</td><td>91.09606847149965</td><td>vulputate velit inc.</td><td>watch, clock, and...</td><td>e</td><td>7.0</td></tr>\n",
       "</table>\n"
      ],
      "text/plain": [
       "+-------+--------------------+------------------+--------------------+--------------------+-------------+------------------+\n",
       "|summary|        merchant_abn| fraud_probability|                name|            category|revenue_level|         take_rate|\n",
       "+-------+--------------------+------------------+--------------------+--------------------+-------------+------------------+\n",
       "|  count|                4073|                95|                4073|                4073|         4073|              4073|\n",
       "|   mean|5.443029800201424E10|39.517386707313435|                NULL|                NULL|         NULL|4.3947974442978355|\n",
       "| stddev|2.605832899933888...|16.617441988139745|                NULL|                NULL|         NULL|1.7767356429512193|\n",
       "|    min|         10023283211| 18.21089142894488|       a aliquet ltd|antique shops -  ...|            a|               0.1|\n",
       "|    max|         99990536339| 91.09606847149965|vulputate velit inc.|watch, clock, and...|            e|               7.0|\n",
       "+-------+--------------------+------------------+--------------------+--------------------+-------------+------------------+"
      ]
     },
     "execution_count": 38,
     "metadata": {},
     "output_type": "execute_result"
    }
   ],
   "source": [
    "merchant_table.describe()"
   ]
  },
  {
   "cell_type": "code",
   "execution_count": 39,
   "metadata": {},
   "outputs": [
    {
     "data": {
      "text/plain": [
       "4026"
      ]
     },
     "execution_count": 39,
     "metadata": {},
     "output_type": "execute_result"
    }
   ],
   "source": [
    "merchant_table.select('merchant_abn').distinct().count()"
   ]
  },
  {
   "cell_type": "code",
   "execution_count": 40,
   "metadata": {},
   "outputs": [],
   "source": [
    "# save the DataFrame as a Parquet file\n",
    "merchant_table.write.parquet('../data/curated/merchant', mode='overwrite')"
   ]
  },
  {
   "cell_type": "markdown",
   "metadata": {},
   "source": [
    "## Consumer datasets"
   ]
  },
  {
   "cell_type": "code",
   "execution_count": 41,
   "metadata": {},
   "outputs": [],
   "source": [
    "consumer_fraud = spark.read.csv('../data/tables/tables 1/consumer_fraud_probability.csv', header=True, inferSchema=True)\n",
    "consumer_user_details = spark.read.parquet('../data/tables/tables 1/consumer_user_details.parquet')\n",
    "tbl_consumer = spark.read.csv('../data/tables/tables 1/tbl_consumer.csv', header=True, inferSchema=True)"
   ]
  },
  {
   "cell_type": "code",
   "execution_count": 42,
   "metadata": {},
   "outputs": [
    {
     "name": "stdout",
     "output_type": "stream",
     "text": [
      "+----------------+-----+--------+------+-----------+\n",
      "|            name|state|postcode|gender|consumer_id|\n",
      "+----------------+-----+--------+------+-----------+\n",
      "|Yolanda Williams|   WA|    6935|Female|    1195503|\n",
      "|      Mary Smith|  NSW|    2782|Female|     179208|\n",
      "|   Jill Jones MD|   NT|     862|Female|    1194530|\n",
      "+----------------+-----+--------+------+-----------+\n",
      "only showing top 3 rows\n",
      "\n"
     ]
    }
   ],
   "source": [
    "# split tbl_consumer table\n",
    "# single column into multiple columns\n",
    "split_col = split(tbl_consumer['name|address|state|postcode|gender|consumer_id'], r'\\|')\n",
    "\n",
    "# create separate columns for each part\n",
    "tbl_consumer = tbl_consumer.withColumn('name', split_col.getItem(0)) \\\n",
    "                           .withColumn('address', split_col.getItem(1)) \\\n",
    "                           .withColumn('state', split_col.getItem(2)) \\\n",
    "                           .withColumn('postcode', split_col.getItem(3)) \\\n",
    "                           .withColumn('gender', split_col.getItem(4)) \\\n",
    "                           .withColumn('consumer_id', split_col.getItem(5))\n",
    "\n",
    "tbl_consumer = tbl_consumer.drop('name|address|state|postcode|gender|consumer_id')\n",
    "tbl_consumer = tbl_consumer.drop('address')\n",
    "tbl_consumer.show(3)"
   ]
  },
  {
   "cell_type": "code",
   "execution_count": 43,
   "metadata": {},
   "outputs": [
    {
     "name": "stdout",
     "output_type": "stream",
     "text": [
      "20128\n",
      "499999\n",
      "499999\n"
     ]
    },
    {
     "name": "stderr",
     "output_type": "stream",
     "text": [
      "                                                                                \r"
     ]
    },
    {
     "data": {
      "text/plain": [
       "499999"
      ]
     },
     "execution_count": 43,
     "metadata": {},
     "output_type": "execute_result"
    }
   ],
   "source": [
    "print(consumer_fraud.select('user_id').distinct().count())\n",
    "print(consumer_user_details.select('user_id').distinct().count())\n",
    "print(consumer_user_details.select('consumer_id').distinct().count())\n",
    "tbl_consumer.select('consumer_id').distinct().count()"
   ]
  },
  {
   "cell_type": "markdown",
   "metadata": {},
   "source": [
    "### Join cosumer tables"
   ]
  },
  {
   "cell_type": "code",
   "execution_count": 44,
   "metadata": {},
   "outputs": [
    {
     "name": "stderr",
     "output_type": "stream",
     "text": [
      "                                                                                \r"
     ]
    },
    {
     "data": {
      "text/plain": [
       "499999"
      ]
     },
     "execution_count": 44,
     "metadata": {},
     "output_type": "execute_result"
    }
   ],
   "source": [
    "consumer_table = consumer_fraud.join(consumer_user_details, on=\"user_id\", how=\"right\")\n",
    "consumer_table.select('user_id').distinct().count()\n",
    "consumer_table = consumer_table.join(tbl_consumer, on=\"consumer_id\", how=\"inner\")\n",
    "consumer_table.select('consumer_id').distinct().count()"
   ]
  },
  {
   "cell_type": "code",
   "execution_count": 45,
   "metadata": {},
   "outputs": [
    {
     "name": "stderr",
     "output_type": "stream",
     "text": [
      "                                                                                \r"
     ]
    },
    {
     "name": "stdout",
     "output_type": "stream",
     "text": [
      "+-----------+-------+--------------+-----------------+---------------+-----+--------+-----------+\n",
      "|consumer_id|user_id|order_datetime|fraud_probability|           name|state|postcode|     gender|\n",
      "+-----------+-------+--------------+-----------------+---------------+-----+--------+-----------+\n",
      "|          7| 371406|          NULL|             NULL| James Williams|  TAS|    7248|       Male|\n",
      "|         19|  92127|          NULL|             NULL| Dennis Ramirez|  QLD|    4406|       Male|\n",
      "|         22| 166164|          NULL|             NULL|  Joseph Turner|  NSW|    2281|       Male|\n",
      "|         26| 476081|          NULL|             NULL|  Chloe Walters|  VIC|    3026|     Female|\n",
      "|         29| 286075|          NULL|             NULL|      Evan Pope|  QLD|    4706|Undisclosed|\n",
      "|         54| 352250|          NULL|             NULL|  Rebecca Lyons|  QLD|    4516|     Female|\n",
      "|         77|  37181|          NULL|             NULL| Donald Burgess|   WA|    6017|       Male|\n",
      "|         94|  77872|          NULL|             NULL|Nicholas Davila|  QLD|    4754|       Male|\n",
      "|        110| 166747|          NULL|             NULL|       John Cox|  NSW|    2778|       Male|\n",
      "|        149|  59264|          NULL|             NULL|      Adam Ward|  NSW|    2397|       Male|\n",
      "+-----------+-------+--------------+-----------------+---------------+-----+--------+-----------+\n",
      "only showing top 10 rows\n",
      "\n"
     ]
    }
   ],
   "source": [
    "consumer_table.show(10)"
   ]
  },
  {
   "cell_type": "code",
   "execution_count": 46,
   "metadata": {},
   "outputs": [
    {
     "name": "stdout",
     "output_type": "stream",
     "text": [
      "root\n",
      " |-- consumer_id: long (nullable = true)\n",
      " |-- user_id: long (nullable = true)\n",
      " |-- order_datetime: date (nullable = true)\n",
      " |-- fraud_probability: double (nullable = true)\n",
      " |-- name: string (nullable = true)\n",
      " |-- state: string (nullable = true)\n",
      " |-- postcode: string (nullable = true)\n",
      " |-- gender: string (nullable = true)\n",
      "\n"
     ]
    }
   ],
   "source": [
    "consumer_table.printSchema()"
   ]
  },
  {
   "cell_type": "code",
   "execution_count": 47,
   "metadata": {},
   "outputs": [
    {
     "name": "stdout",
     "output_type": "stream",
     "text": [
      "root\n",
      " |-- consumer_id: long (nullable = true)\n",
      " |-- user_id: long (nullable = true)\n",
      " |-- order_datetime: date (nullable = true)\n",
      " |-- fraud_probability: double (nullable = true)\n",
      " |-- name: string (nullable = true)\n",
      " |-- state: string (nullable = true)\n",
      " |-- postcode: long (nullable = true)\n",
      " |-- gender: string (nullable = true)\n",
      "\n"
     ]
    }
   ],
   "source": [
    "# convert the `postcode` column from string type to long type\n",
    "consumer_table = consumer_table.withColumn(\"postcode\", col(\"postcode\").cast(\"long\"))\n",
    "consumer_table.printSchema()"
   ]
  },
  {
   "cell_type": "markdown",
   "metadata": {},
   "source": [
    "### Consumer table preprocessing"
   ]
  },
  {
   "cell_type": "code",
   "execution_count": 48,
   "metadata": {},
   "outputs": [
    {
     "name": "stdout",
     "output_type": "stream",
     "text": [
      "+-----------+-------+--------------+-----------------+----+-----+--------+------+\n",
      "|consumer_id|user_id|order_datetime|fraud_probability|name|state|postcode|gender|\n",
      "+-----------+-------+--------------+-----------------+----+-----+--------+------+\n",
      "+-----------+-------+--------------+-----------------+----+-----+--------+------+\n",
      "\n"
     ]
    },
    {
     "name": "stderr",
     "output_type": "stream",
     "text": [
      "                                                                                \r"
     ]
    }
   ],
   "source": [
    "# check for invalid fraud probabilities - none\n",
    "invalid_fraud_prob = consumer_table.filter((col(\"fraud_probability\") < 0) | (col(\"fraud_probability\") > 100))\n",
    "invalid_fraud_prob.show(truncate=False)"
   ]
  },
  {
   "cell_type": "code",
   "execution_count": 49,
   "metadata": {},
   "outputs": [
    {
     "name": "stderr",
     "output_type": "stream",
     "text": [
      "[Stage 143:=======>                                                 (1 + 7) / 8]\r"
     ]
    },
    {
     "name": "stdout",
     "output_type": "stream",
     "text": [
      "There are 0 missing values in the 'consumer_id' column.\n",
      "There are 0 missing values in the 'user_id' column.\n",
      "There are 479871 missing values in the 'order_datetime' column.\n",
      "There are 479871 missing values in the 'fraud_probability' column.\n",
      "There are 0 missing values in the 'name' column.\n",
      "There are 0 missing values in the 'state' column.\n",
      "There are 0 missing values in the 'postcode' column.\n",
      "There are 0 missing values in the 'gender' column.\n"
     ]
    },
    {
     "name": "stderr",
     "output_type": "stream",
     "text": [
      "                                                                                \r"
     ]
    }
   ],
   "source": [
    "# check missing values\n",
    "# all columns in the DataFrame\n",
    "columns = consumer_table.columns\n",
    "\n",
    "# count missing values for each column\n",
    "missing_values_expr = [sum(col(c).isNull().cast(\"int\")).alias(c) for c in columns]\n",
    "missing_counts = consumer_table.select(*missing_values_expr).collect()[0].asDict()\n",
    "\n",
    "# missing values count for each column\n",
    "for column, count in missing_counts.items():\n",
    "    print(f\"There are {count} missing values in the '{column}' column.\")"
   ]
  },
  {
   "cell_type": "code",
   "execution_count": 50,
   "metadata": {},
   "outputs": [
    {
     "name": "stderr",
     "output_type": "stream",
     "text": [
      "                                                                                \r"
     ]
    },
    {
     "data": {
      "text/html": [
       "<table border='1'>\n",
       "<tr><th>summary</th><th>consumer_id</th><th>user_id</th><th>fraud_probability</th><th>name</th><th>state</th><th>postcode</th><th>gender</th></tr>\n",
       "<tr><td>count</td><td>514735</td><td>514735</td><td>34864</td><td>514735</td><td>514735</td><td>514735</td><td>514735</td></tr>\n",
       "<tr><td>mean</td><td>750893.6460508805</td><td>243188.94650645478</td><td>15.120090644154695</td><td>NULL</td><td>NULL</td><td>4037.528333997105</td><td>NULL</td></tr>\n",
       "<tr><td>stddev</td><td>433192.7318899152</td><td>147689.9105190419</td><td>9.946084849578078</td><td>NULL</td><td>NULL</td><td>1791.1524685013521</td><td>NULL</td></tr>\n",
       "<tr><td>min</td><td>4</td><td>1</td><td>8.287143531552802</td><td>Aaron Acevedo</td><td>ACT</td><td>200</td><td>Female</td></tr>\n",
       "<tr><td>max</td><td>1499995</td><td>499999</td><td>99.24738020302328</td><td>Zoe Wright</td><td>WA</td><td>9999</td><td>Undisclosed</td></tr>\n",
       "</table>\n"
      ],
      "text/plain": [
       "+-------+-----------------+------------------+------------------+-------------+------+------------------+-----------+\n",
       "|summary|      consumer_id|           user_id| fraud_probability|         name| state|          postcode|     gender|\n",
       "+-------+-----------------+------------------+------------------+-------------+------+------------------+-----------+\n",
       "|  count|           514735|            514735|             34864|       514735|514735|            514735|     514735|\n",
       "|   mean|750893.6460508805|243188.94650645478|15.120090644154695|         NULL|  NULL| 4037.528333997105|       NULL|\n",
       "| stddev|433192.7318899152| 147689.9105190419| 9.946084849578078|         NULL|  NULL|1791.1524685013521|       NULL|\n",
       "|    min|                4|                 1| 8.287143531552802|Aaron Acevedo|   ACT|               200|     Female|\n",
       "|    max|          1499995|            499999| 99.24738020302328|   Zoe Wright|    WA|              9999|Undisclosed|\n",
       "+-------+-----------------+------------------+------------------+-------------+------+------------------+-----------+"
      ]
     },
     "execution_count": 50,
     "metadata": {},
     "output_type": "execute_result"
    }
   ],
   "source": [
    "consumer_table.describe()"
   ]
  },
  {
   "cell_type": "code",
   "execution_count": 51,
   "metadata": {},
   "outputs": [
    {
     "name": "stderr",
     "output_type": "stream",
     "text": [
      "                                                                                \r"
     ]
    }
   ],
   "source": [
    "# save the DataFrame as a Parquet file\n",
    "consumer_table.write.parquet('../data/curated/consumer', mode='overwrite')"
   ]
  },
  {
   "cell_type": "markdown",
   "metadata": {},
   "source": [
    "## Table 2 3 4 - transaction tables"
   ]
  },
  {
   "cell_type": "code",
   "execution_count": 52,
   "metadata": {},
   "outputs": [
    {
     "name": "stderr",
     "output_type": "stream",
     "text": [
      "                                                                                \r"
     ]
    }
   ],
   "source": [
    "# 3 transactions tables\n",
    "tables_2 = spark.read.parquet('../data/tables/tables 2')\n",
    "tables_3 = spark.read.parquet('../data/tables/tables 3')\n",
    "tables_4 = spark.read.parquet('../data/tables/tables 4')"
   ]
  },
  {
   "cell_type": "code",
   "execution_count": 53,
   "metadata": {},
   "outputs": [
    {
     "name": "stdout",
     "output_type": "stream",
     "text": [
      "number of transactions in table 2 3 4:  3643266 4508106 6044133\n"
     ]
    }
   ],
   "source": [
    "print('number of transactions in table 2 3 4: ', tables_2.count(), tables_3.count(), tables_4.count())\n"
   ]
  },
  {
   "cell_type": "code",
   "execution_count": 54,
   "metadata": {},
   "outputs": [],
   "source": [
    "# combine all transactions - 14195505 transactions with no duplicate record\n",
    "transaction_table = tables_2.union(tables_3).union(tables_4)"
   ]
  },
  {
   "cell_type": "code",
   "execution_count": 55,
   "metadata": {},
   "outputs": [
    {
     "name": "stdout",
     "output_type": "stream",
     "text": [
      "+-------+------------+------------------+--------------------+--------------+\n",
      "|user_id|merchant_abn|      dollar_value|            order_id|order_datetime|\n",
      "+-------+------------+------------------+--------------------+--------------+\n",
      "|  18478| 62191208634|63.255848959735246|949a63c8-29f7-4ab...|    2021-08-20|\n",
      "|      2| 15549624934| 130.3505283105634|6a84c3cf-612a-457...|    2021-08-20|\n",
      "|  18479| 64403598239|120.15860593212783|b10dcc33-e53f-425...|    2021-08-20|\n",
      "|      3| 60956456424| 136.6785200286976|0f09c5a5-784e-447...|    2021-08-20|\n",
      "|  18479| 94493496784| 72.96316578355305|f6c78c1a-4600-4c5...|    2021-08-20|\n",
      "+-------+------------+------------------+--------------------+--------------+\n",
      "only showing top 5 rows\n",
      "\n"
     ]
    }
   ],
   "source": [
    "transaction_table.show(5)"
   ]
  },
  {
   "cell_type": "code",
   "execution_count": 56,
   "metadata": {},
   "outputs": [
    {
     "name": "stdout",
     "output_type": "stream",
     "text": [
      "root\n",
      " |-- user_id: long (nullable = true)\n",
      " |-- merchant_abn: long (nullable = true)\n",
      " |-- dollar_value: double (nullable = true)\n",
      " |-- order_id: string (nullable = true)\n",
      " |-- order_datetime: date (nullable = true)\n",
      "\n"
     ]
    }
   ],
   "source": [
    "transaction_table.printSchema()"
   ]
  },
  {
   "cell_type": "code",
   "execution_count": 57,
   "metadata": {},
   "outputs": [
    {
     "name": "stderr",
     "output_type": "stream",
     "text": [
      "[Stage 200:============================================>            (7 + 2) / 9]\r"
     ]
    },
    {
     "name": "stdout",
     "output_type": "stream",
     "text": [
      "+-------+------------+------------+--------+--------------+-----+\n",
      "|user_id|merchant_abn|dollar_value|order_id|order_datetime|count|\n",
      "+-------+------------+------------+--------+--------------+-----+\n",
      "+-------+------------+------------+--------+--------------+-----+\n",
      "\n"
     ]
    },
    {
     "name": "stderr",
     "output_type": "stream",
     "text": [
      "                                                                                \r"
     ]
    }
   ],
   "source": [
    "# check duplicate transaction records\n",
    "\n",
    "# group by all columns and count occurrences\n",
    "duplicates = transaction_table.groupBy(transaction_table.columns).count()\n",
    "\n",
    "# keep only duplicate records\n",
    "duplicates = duplicates.filter(col(\"count\") > 1)\n",
    "\n",
    "# duplicate row\n",
    "duplicates.show()"
   ]
  },
  {
   "cell_type": "code",
   "execution_count": 58,
   "metadata": {},
   "outputs": [
    {
     "name": "stderr",
     "output_type": "stream",
     "text": [
      "[Stage 201:=================================>                     (16 + 8) / 26]\r"
     ]
    },
    {
     "name": "stdout",
     "output_type": "stream",
     "text": [
      "There are 0 missing values in the 'user_id' column.\n",
      "There are 0 missing values in the 'merchant_abn' column.\n",
      "There are 0 missing values in the 'dollar_value' column.\n",
      "There are 0 missing values in the 'order_id' column.\n",
      "There are 0 missing values in the 'order_datetime' column.\n"
     ]
    },
    {
     "name": "stderr",
     "output_type": "stream",
     "text": [
      "                                                                                \r"
     ]
    }
   ],
   "source": [
    "# check missing values\n",
    "# all columns in the DataFrame\n",
    "columns = transaction_table.columns\n",
    "\n",
    "# count missing values for each column\n",
    "missing_values_expr = [sum(col(c).isNull().cast(\"int\")).alias(c) for c in columns]\n",
    "missing_counts = transaction_table.select(*missing_values_expr).collect()[0].asDict()\n",
    "\n",
    "# missing values count for each column\n",
    "for column, count in missing_counts.items():\n",
    "    print(f\"There are {count} missing values in the '{column}' column.\")"
   ]
  },
  {
   "cell_type": "code",
   "execution_count": 59,
   "metadata": {},
   "outputs": [
    {
     "name": "stderr",
     "output_type": "stream",
     "text": [
      "                                                                                \r"
     ]
    }
   ],
   "source": [
    "# save the DataFrame as a Parquet file\n",
    "transaction_table.write.parquet('../data/curated/transaction', mode='overwrite')"
   ]
  },
  {
   "cell_type": "markdown",
   "metadata": {},
   "source": [
    "# External dataset"
   ]
  },
  {
   "cell_type": "markdown",
   "metadata": {},
   "source": [
    "### Location datasets (SA2 information and postcode)\n",
    "1. SA2 information and its geometry: https://www.abs.gov.au/statistics/standards/australian-statistical-geography-standard-asgs-edition-3/jul2021-jun2026/access-and-downloads/digital-boundary-files/SA2_2021_AUST_SHP_GDA2020.zip\n",
    "2. SA2 information and postcode lookup table: https://data.gov.au/data/dataset/6cd8989d-4aca-46b7-b93e-77befcffa0b6/resource/cb659d81-5bd2-41f5-a3d0-67257c9a5893/download/asgs2021codingindexs.zip"
   ]
  },
  {
   "cell_type": "code",
   "execution_count": 60,
   "metadata": {},
   "outputs": [],
   "source": [
    "# read SA2 name and its geometry\n",
    "gda = gpd.read_file('../data/tables/SA2_2021_AUST_SHP_GDA2020/SA2_2021_AUST_GDA2020.shp')\n",
    "gda = gda[['SA2_NAME21', 'geometry']]\n",
    "\n",
    "# read the SA2 name and postcode lookup table \n",
    "postcode_sa2 = pd.read_csv('../data/tables/asgs2021codingindexs/2023 Locality to 2021 SA2 Coding Index.csv')\n",
    "postcode_sa2 = postcode_sa2[['SA2_NAME_2021', 'SA2_MAINCODE_2021', 'POSTCODE', 'STATE']]\n",
    "postcode_sa2 = postcode_sa2.dropna(subset=['POSTCODE'])\n",
    "postcode_sa2['POSTCODE'] = postcode_sa2['POSTCODE'].astype(int)\n",
    "postcode_sa2 = postcode_sa2.rename(columns={'POSTCODE': 'postcode'})\n",
    "postcode_sa2 = postcode_sa2.rename(columns={'STATE': 'state'})"
   ]
  },
  {
   "cell_type": "code",
   "execution_count": 61,
   "metadata": {},
   "outputs": [
    {
     "data": {
      "text/html": [
       "<div>\n",
       "<style scoped>\n",
       "    .dataframe tbody tr th:only-of-type {\n",
       "        vertical-align: middle;\n",
       "    }\n",
       "\n",
       "    .dataframe tbody tr th {\n",
       "        vertical-align: top;\n",
       "    }\n",
       "\n",
       "    .dataframe thead th {\n",
       "        text-align: right;\n",
       "    }\n",
       "</style>\n",
       "<table border=\"1\" class=\"dataframe\">\n",
       "  <thead>\n",
       "    <tr style=\"text-align: right;\">\n",
       "      <th></th>\n",
       "      <th>SA2_NAME21</th>\n",
       "      <th>geometry</th>\n",
       "    </tr>\n",
       "  </thead>\n",
       "  <tbody>\n",
       "    <tr>\n",
       "      <th>0</th>\n",
       "      <td>Braidwood</td>\n",
       "      <td>POLYGON ((149.58424 -35.44426, 149.58444 -35.4...</td>\n",
       "    </tr>\n",
       "    <tr>\n",
       "      <th>1</th>\n",
       "      <td>Karabar</td>\n",
       "      <td>POLYGON ((149.21899 -35.36738, 149.218 -35.366...</td>\n",
       "    </tr>\n",
       "    <tr>\n",
       "      <th>2</th>\n",
       "      <td>Queanbeyan</td>\n",
       "      <td>POLYGON ((149.21326 -35.34325, 149.21619 -35.3...</td>\n",
       "    </tr>\n",
       "    <tr>\n",
       "      <th>3</th>\n",
       "      <td>Queanbeyan - East</td>\n",
       "      <td>POLYGON ((149.24034 -35.34781, 149.24024 -35.3...</td>\n",
       "    </tr>\n",
       "    <tr>\n",
       "      <th>4</th>\n",
       "      <td>Queanbeyan West - Jerrabomberra</td>\n",
       "      <td>POLYGON ((149.19572 -35.36126, 149.1997 -35.35...</td>\n",
       "    </tr>\n",
       "  </tbody>\n",
       "</table>\n",
       "</div>"
      ],
      "text/plain": [
       "                        SA2_NAME21  \\\n",
       "0                        Braidwood   \n",
       "1                          Karabar   \n",
       "2                       Queanbeyan   \n",
       "3                Queanbeyan - East   \n",
       "4  Queanbeyan West - Jerrabomberra   \n",
       "\n",
       "                                            geometry  \n",
       "0  POLYGON ((149.58424 -35.44426, 149.58444 -35.4...  \n",
       "1  POLYGON ((149.21899 -35.36738, 149.218 -35.366...  \n",
       "2  POLYGON ((149.21326 -35.34325, 149.21619 -35.3...  \n",
       "3  POLYGON ((149.24034 -35.34781, 149.24024 -35.3...  \n",
       "4  POLYGON ((149.19572 -35.36126, 149.1997 -35.35...  "
      ]
     },
     "execution_count": 61,
     "metadata": {},
     "output_type": "execute_result"
    }
   ],
   "source": [
    "gda.head()"
   ]
  },
  {
   "cell_type": "code",
   "execution_count": 62,
   "metadata": {},
   "outputs": [
    {
     "data": {
      "text/html": [
       "<div>\n",
       "<style scoped>\n",
       "    .dataframe tbody tr th:only-of-type {\n",
       "        vertical-align: middle;\n",
       "    }\n",
       "\n",
       "    .dataframe tbody tr th {\n",
       "        vertical-align: top;\n",
       "    }\n",
       "\n",
       "    .dataframe thead th {\n",
       "        text-align: right;\n",
       "    }\n",
       "</style>\n",
       "<table border=\"1\" class=\"dataframe\">\n",
       "  <thead>\n",
       "    <tr style=\"text-align: right;\">\n",
       "      <th></th>\n",
       "      <th>SA2_NAME_2021</th>\n",
       "      <th>SA2_MAINCODE_2021</th>\n",
       "      <th>postcode</th>\n",
       "      <th>state</th>\n",
       "    </tr>\n",
       "  </thead>\n",
       "  <tbody>\n",
       "    <tr>\n",
       "      <th>0</th>\n",
       "      <td>Black Mountain</td>\n",
       "      <td>801051123</td>\n",
       "      <td>2600</td>\n",
       "      <td>ACT</td>\n",
       "    </tr>\n",
       "    <tr>\n",
       "      <th>1</th>\n",
       "      <td>Parkes (ACT) - South</td>\n",
       "      <td>801061068</td>\n",
       "      <td>2600</td>\n",
       "      <td>ACT</td>\n",
       "    </tr>\n",
       "    <tr>\n",
       "      <th>2</th>\n",
       "      <td>Barton</td>\n",
       "      <td>801061129</td>\n",
       "      <td>2600</td>\n",
       "      <td>ACT</td>\n",
       "    </tr>\n",
       "    <tr>\n",
       "      <th>3</th>\n",
       "      <td>Deakin</td>\n",
       "      <td>801061062</td>\n",
       "      <td>2600</td>\n",
       "      <td>ACT</td>\n",
       "    </tr>\n",
       "    <tr>\n",
       "      <th>4</th>\n",
       "      <td>Parkes (ACT) - South</td>\n",
       "      <td>801061068</td>\n",
       "      <td>2600</td>\n",
       "      <td>ACT</td>\n",
       "    </tr>\n",
       "  </tbody>\n",
       "</table>\n",
       "</div>"
      ],
      "text/plain": [
       "          SA2_NAME_2021  SA2_MAINCODE_2021  postcode state\n",
       "0        Black Mountain          801051123      2600   ACT\n",
       "1  Parkes (ACT) - South          801061068      2600   ACT\n",
       "2                Barton          801061129      2600   ACT\n",
       "3                Deakin          801061062      2600   ACT\n",
       "4  Parkes (ACT) - South          801061068      2600   ACT"
      ]
     },
     "execution_count": 62,
     "metadata": {},
     "output_type": "execute_result"
    }
   ],
   "source": [
    "postcode_sa2.head()"
   ]
  },
  {
   "cell_type": "code",
   "execution_count": 63,
   "metadata": {},
   "outputs": [
    {
     "data": {
      "text/html": [
       "<div>\n",
       "<style scoped>\n",
       "    .dataframe tbody tr th:only-of-type {\n",
       "        vertical-align: middle;\n",
       "    }\n",
       "\n",
       "    .dataframe tbody tr th {\n",
       "        vertical-align: top;\n",
       "    }\n",
       "\n",
       "    .dataframe thead th {\n",
       "        text-align: right;\n",
       "    }\n",
       "</style>\n",
       "<table border=\"1\" class=\"dataframe\">\n",
       "  <thead>\n",
       "    <tr style=\"text-align: right;\">\n",
       "      <th></th>\n",
       "      <th>SA2_name</th>\n",
       "      <th>geometry</th>\n",
       "      <th>SA2_MAINCODE_2021</th>\n",
       "      <th>postcode</th>\n",
       "      <th>state</th>\n",
       "    </tr>\n",
       "  </thead>\n",
       "  <tbody>\n",
       "    <tr>\n",
       "      <th>0</th>\n",
       "      <td>Braidwood</td>\n",
       "      <td>POLYGON ((149.58424 -35.44426, 149.58444 -35.4...</td>\n",
       "      <td>101021007</td>\n",
       "      <td>2580</td>\n",
       "      <td>NSW</td>\n",
       "    </tr>\n",
       "    <tr>\n",
       "      <th>5</th>\n",
       "      <td>Braidwood</td>\n",
       "      <td>POLYGON ((149.58424 -35.44426, 149.58444 -35.4...</td>\n",
       "      <td>101021007</td>\n",
       "      <td>2622</td>\n",
       "      <td>NSW</td>\n",
       "    </tr>\n",
       "    <tr>\n",
       "      <th>53</th>\n",
       "      <td>Karabar</td>\n",
       "      <td>POLYGON ((149.21899 -35.36738, 149.218 -35.366...</td>\n",
       "      <td>101021008</td>\n",
       "      <td>2620</td>\n",
       "      <td>NSW</td>\n",
       "    </tr>\n",
       "    <tr>\n",
       "      <th>56</th>\n",
       "      <td>Queanbeyan</td>\n",
       "      <td>POLYGON ((149.21326 -35.34325, 149.21619 -35.3...</td>\n",
       "      <td>101021009</td>\n",
       "      <td>2620</td>\n",
       "      <td>ACT</td>\n",
       "    </tr>\n",
       "    <tr>\n",
       "      <th>57</th>\n",
       "      <td>Queanbeyan</td>\n",
       "      <td>POLYGON ((149.21326 -35.34325, 149.21619 -35.3...</td>\n",
       "      <td>101021009</td>\n",
       "      <td>2620</td>\n",
       "      <td>NSW</td>\n",
       "    </tr>\n",
       "  </tbody>\n",
       "</table>\n",
       "</div>"
      ],
      "text/plain": [
       "      SA2_name                                           geometry  \\\n",
       "0    Braidwood  POLYGON ((149.58424 -35.44426, 149.58444 -35.4...   \n",
       "5    Braidwood  POLYGON ((149.58424 -35.44426, 149.58444 -35.4...   \n",
       "53     Karabar  POLYGON ((149.21899 -35.36738, 149.218 -35.366...   \n",
       "56  Queanbeyan  POLYGON ((149.21326 -35.34325, 149.21619 -35.3...   \n",
       "57  Queanbeyan  POLYGON ((149.21326 -35.34325, 149.21619 -35.3...   \n",
       "\n",
       "    SA2_MAINCODE_2021  postcode state  \n",
       "0           101021007      2580   NSW  \n",
       "5           101021007      2622   NSW  \n",
       "53          101021008      2620   NSW  \n",
       "56          101021009      2620   ACT  \n",
       "57          101021009      2620   NSW  "
      ]
     },
     "execution_count": 63,
     "metadata": {},
     "output_type": "execute_result"
    }
   ],
   "source": [
    "postcode_sa2_geo = gda.merge(postcode_sa2, left_on='SA2_NAME21', right_on='SA2_NAME_2021', how='inner')\n",
    "postcode_sa2_geo = postcode_sa2_geo.drop_duplicates()\n",
    "postcode_sa2_geo = postcode_sa2_geo.drop(columns=['SA2_NAME_2021'])\n",
    "postcode_sa2_geo = postcode_sa2_geo.rename(columns={'SA2_NAME21': 'SA2_name'})\n",
    "postcode_sa2_geo.head()"
   ]
  },
  {
   "cell_type": "code",
   "execution_count": 64,
   "metadata": {},
   "outputs": [
    {
     "name": "stdout",
     "output_type": "stream",
     "text": [
      "postcode_sa2_geo:\n",
      "SA2_name               object\n",
      "geometry             geometry\n",
      "SA2_MAINCODE_2021       int64\n",
      "postcode                int64\n",
      "state                  object\n",
      "dtype: object\n"
     ]
    }
   ],
   "source": [
    "# check the data type\n",
    "print('postcode_sa2_geo:')\n",
    "print(postcode_sa2_geo.dtypes)"
   ]
  },
  {
   "cell_type": "code",
   "execution_count": 65,
   "metadata": {},
   "outputs": [
    {
     "name": "stdout",
     "output_type": "stream",
     "text": [
      "Number of unique postcodes: 2643\n"
     ]
    }
   ],
   "source": [
    "# number of unique postcode\n",
    "unique_postcodes_count = len(postcode_sa2_geo['postcode'].unique())\n",
    "print(f\"Number of unique postcodes: {unique_postcodes_count}\")"
   ]
  },
  {
   "cell_type": "code",
   "execution_count": 66,
   "metadata": {},
   "outputs": [
    {
     "data": {
      "text/plain": [
       "(4841, 5)"
      ]
     },
     "execution_count": 66,
     "metadata": {},
     "output_type": "execute_result"
    }
   ],
   "source": [
    "postcode_sa2_geo.shape"
   ]
  },
  {
   "cell_type": "code",
   "execution_count": 67,
   "metadata": {},
   "outputs": [
    {
     "name": "stderr",
     "output_type": "stream",
     "text": [
      "/var/folders/rc/ddmw432j4cj3k9y_h6wn3npw0000gn/T/ipykernel_10605/71268090.py:2: UserWarning: Column names longer than 10 characters will be truncated when saved to ESRI Shapefile.\n",
      "  postcode_sa2_geo.to_file('../data/curated/postcode_sa2_geo.shp')\n",
      "/Users/apple/anaconda3/lib/python3.11/site-packages/pyogrio/raw.py:709: RuntimeWarning: Normalized/laundered field name: 'SA2_MAINCODE_2021' to 'SA2_MAINCO'\n",
      "  ogr_write(\n"
     ]
    }
   ],
   "source": [
    "# save the DataFrame as a CSV file\n",
    "postcode_sa2_geo.to_file('../data/curated/postcode_sa2_geo.shp')"
   ]
  },
  {
   "cell_type": "markdown",
   "metadata": {},
   "source": [
    "### Census dataset\n",
    "https://www.abs.gov.au/census/find-census-data/datapacks/download/2021_GCP_SA2_for_AUS_short-header.zip"
   ]
  },
  {
   "cell_type": "code",
   "execution_count": 68,
   "metadata": {},
   "outputs": [
    {
     "data": {
      "text/html": [
       "<div>\n",
       "<style scoped>\n",
       "    .dataframe tbody tr th:only-of-type {\n",
       "        vertical-align: middle;\n",
       "    }\n",
       "\n",
       "    .dataframe tbody tr th {\n",
       "        vertical-align: top;\n",
       "    }\n",
       "\n",
       "    .dataframe thead th {\n",
       "        text-align: right;\n",
       "    }\n",
       "</style>\n",
       "<table border=\"1\" class=\"dataframe\">\n",
       "  <thead>\n",
       "    <tr style=\"text-align: right;\">\n",
       "      <th></th>\n",
       "      <th>SA2_CODE_2021</th>\n",
       "      <th>Median_age_persons</th>\n",
       "      <th>Median_mortgage_repay_monthly</th>\n",
       "      <th>Median_tot_prsnl_inc_weekly</th>\n",
       "      <th>Median_rent_weekly</th>\n",
       "      <th>Median_tot_fam_inc_weekly</th>\n",
       "      <th>Average_num_psns_per_bedroom</th>\n",
       "      <th>Median_tot_hhd_inc_weekly</th>\n",
       "      <th>Average_household_size</th>\n",
       "    </tr>\n",
       "  </thead>\n",
       "  <tbody>\n",
       "    <tr>\n",
       "      <th>0</th>\n",
       "      <td>101021007</td>\n",
       "      <td>51</td>\n",
       "      <td>1732</td>\n",
       "      <td>760</td>\n",
       "      <td>330</td>\n",
       "      <td>1886</td>\n",
       "      <td>0.8</td>\n",
       "      <td>1429</td>\n",
       "      <td>2.2</td>\n",
       "    </tr>\n",
       "    <tr>\n",
       "      <th>1</th>\n",
       "      <td>101021008</td>\n",
       "      <td>38</td>\n",
       "      <td>1950</td>\n",
       "      <td>975</td>\n",
       "      <td>350</td>\n",
       "      <td>2334</td>\n",
       "      <td>0.8</td>\n",
       "      <td>1989</td>\n",
       "      <td>2.6</td>\n",
       "    </tr>\n",
       "    <tr>\n",
       "      <th>2</th>\n",
       "      <td>101021009</td>\n",
       "      <td>37</td>\n",
       "      <td>1700</td>\n",
       "      <td>996</td>\n",
       "      <td>330</td>\n",
       "      <td>2233</td>\n",
       "      <td>0.9</td>\n",
       "      <td>1703</td>\n",
       "      <td>2.1</td>\n",
       "    </tr>\n",
       "    <tr>\n",
       "      <th>3</th>\n",
       "      <td>101021010</td>\n",
       "      <td>36</td>\n",
       "      <td>1700</td>\n",
       "      <td>1104</td>\n",
       "      <td>310</td>\n",
       "      <td>2412</td>\n",
       "      <td>0.9</td>\n",
       "      <td>1796</td>\n",
       "      <td>2.1</td>\n",
       "    </tr>\n",
       "    <tr>\n",
       "      <th>4</th>\n",
       "      <td>101021012</td>\n",
       "      <td>37</td>\n",
       "      <td>2300</td>\n",
       "      <td>1357</td>\n",
       "      <td>430</td>\n",
       "      <td>3332</td>\n",
       "      <td>0.8</td>\n",
       "      <td>3014</td>\n",
       "      <td>2.9</td>\n",
       "    </tr>\n",
       "  </tbody>\n",
       "</table>\n",
       "</div>"
      ],
      "text/plain": [
       "   SA2_CODE_2021  Median_age_persons  Median_mortgage_repay_monthly  \\\n",
       "0      101021007                  51                           1732   \n",
       "1      101021008                  38                           1950   \n",
       "2      101021009                  37                           1700   \n",
       "3      101021010                  36                           1700   \n",
       "4      101021012                  37                           2300   \n",
       "\n",
       "   Median_tot_prsnl_inc_weekly  Median_rent_weekly  Median_tot_fam_inc_weekly  \\\n",
       "0                          760                 330                       1886   \n",
       "1                          975                 350                       2334   \n",
       "2                          996                 330                       2233   \n",
       "3                         1104                 310                       2412   \n",
       "4                         1357                 430                       3332   \n",
       "\n",
       "   Average_num_psns_per_bedroom  Median_tot_hhd_inc_weekly  \\\n",
       "0                           0.8                       1429   \n",
       "1                           0.8                       1989   \n",
       "2                           0.9                       1703   \n",
       "3                           0.9                       1796   \n",
       "4                           0.8                       3014   \n",
       "\n",
       "   Average_household_size  \n",
       "0                     2.2  \n",
       "1                     2.6  \n",
       "2                     2.1  \n",
       "3                     2.1  \n",
       "4                     2.9  "
      ]
     },
     "execution_count": 68,
     "metadata": {},
     "output_type": "execute_result"
    }
   ],
   "source": [
    "census_df = pd.read_csv('../data/tables/2021_GCP_SA2_for_AUS_short-header/2021 Census GCP Statistical Area 2 for AUS/2021Census_G02_AUST_SA2.csv')\n",
    "census_df.head()"
   ]
  },
  {
   "cell_type": "code",
   "execution_count": 69,
   "metadata": {},
   "outputs": [
    {
     "data": {
      "text/plain": [
       "SA2_CODE_2021                      int64\n",
       "Median_age_persons                 int64\n",
       "Median_mortgage_repay_monthly      int64\n",
       "Median_tot_prsnl_inc_weekly        int64\n",
       "Median_rent_weekly                 int64\n",
       "Median_tot_fam_inc_weekly          int64\n",
       "Average_num_psns_per_bedroom     float64\n",
       "Median_tot_hhd_inc_weekly          int64\n",
       "Average_household_size           float64\n",
       "dtype: object"
      ]
     },
     "execution_count": 69,
     "metadata": {},
     "output_type": "execute_result"
    }
   ],
   "source": [
    "census_df.dtypes"
   ]
  },
  {
   "cell_type": "code",
   "execution_count": 70,
   "metadata": {},
   "outputs": [
    {
     "name": "stdout",
     "output_type": "stream",
     "text": [
      "Column 'SA2_CODE_2021' has 0 null values.\n",
      "Column 'Median_age_persons' has 0 null values.\n",
      "Column 'Median_mortgage_repay_monthly' has 0 null values.\n",
      "Column 'Median_tot_prsnl_inc_weekly' has 0 null values.\n",
      "Column 'Median_rent_weekly' has 0 null values.\n",
      "Column 'Median_tot_fam_inc_weekly' has 0 null values.\n",
      "Column 'Average_num_psns_per_bedroom' has 0 null values.\n",
      "Column 'Median_tot_hhd_inc_weekly' has 0 null values.\n",
      "Column 'Average_household_size' has 0 null values.\n"
     ]
    }
   ],
   "source": [
    "# count the number of null in each column\n",
    "null_counts = census_df.isnull().sum()\n",
    "for column, count in null_counts.items():\n",
    "    if count > 0:\n",
    "        print(f\"Column '{column}' has {count} null values.\")\n",
    "    else:\n",
    "        print(f\"Column '{column}' has 0 null values.\")"
   ]
  },
  {
   "cell_type": "code",
   "execution_count": 71,
   "metadata": {},
   "outputs": [
    {
     "name": "stdout",
     "output_type": "stream",
     "text": [
      "Column 'SA2_CODE_2021' has 0 zero values.\n",
      "Column 'Median_age_persons' has 38 zero values.\n",
      "Column 'Median_mortgage_repay_monthly' has 111 zero values.\n",
      "Column 'Median_tot_prsnl_inc_weekly' has 42 zero values.\n",
      "Column 'Median_rent_weekly' has 80 zero values.\n",
      "Column 'Median_tot_fam_inc_weekly' has 69 zero values.\n",
      "Column 'Average_num_psns_per_bedroom' has 55 zero values.\n",
      "Column 'Median_tot_hhd_inc_weekly' has 58 zero values.\n",
      "Column 'Average_household_size' has 55 zero values.\n"
     ]
    }
   ],
   "source": [
    "# count the number of 0 in each column\n",
    "zero_counts = (census_df == 0).sum()\n",
    "for column, count in zero_counts.items():\n",
    "    print(f\"Column '{column}' has {count} zero values.\")"
   ]
  },
  {
   "cell_type": "code",
   "execution_count": 72,
   "metadata": {},
   "outputs": [],
   "source": [
    "# delete the rows that are all 0 except the `SA2_CODE_2021` column\n",
    "census_df = census_df[(census_df.iloc[:, 1:] != 0).any(axis=1)]"
   ]
  },
  {
   "cell_type": "code",
   "execution_count": 73,
   "metadata": {},
   "outputs": [
    {
     "data": {
      "text/html": [
       "<div>\n",
       "<style scoped>\n",
       "    .dataframe tbody tr th:only-of-type {\n",
       "        vertical-align: middle;\n",
       "    }\n",
       "\n",
       "    .dataframe tbody tr th {\n",
       "        vertical-align: top;\n",
       "    }\n",
       "\n",
       "    .dataframe thead th {\n",
       "        text-align: right;\n",
       "    }\n",
       "</style>\n",
       "<table border=\"1\" class=\"dataframe\">\n",
       "  <thead>\n",
       "    <tr style=\"text-align: right;\">\n",
       "      <th></th>\n",
       "      <th>SA2_CODE_2021</th>\n",
       "      <th>Median_age_persons</th>\n",
       "      <th>Median_mortgage_repay_monthly</th>\n",
       "      <th>Median_tot_prsnl_inc_weekly</th>\n",
       "      <th>Median_rent_weekly</th>\n",
       "      <th>Median_tot_fam_inc_weekly</th>\n",
       "      <th>Average_num_psns_per_bedroom</th>\n",
       "      <th>Median_tot_hhd_inc_weekly</th>\n",
       "      <th>Average_household_size</th>\n",
       "    </tr>\n",
       "  </thead>\n",
       "  <tbody>\n",
       "    <tr>\n",
       "      <th>count</th>\n",
       "      <td>2.434000e+03</td>\n",
       "      <td>2434.000000</td>\n",
       "      <td>2434.000000</td>\n",
       "      <td>2434.000000</td>\n",
       "      <td>2434.000000</td>\n",
       "      <td>2434.000000</td>\n",
       "      <td>2434.000000</td>\n",
       "      <td>2434.000000</td>\n",
       "      <td>2434.000000</td>\n",
       "    </tr>\n",
       "    <tr>\n",
       "      <th>mean</th>\n",
       "      <td>3.142369e+08</td>\n",
       "      <td>40.349219</td>\n",
       "      <td>1827.395234</td>\n",
       "      <td>848.050534</td>\n",
       "      <td>362.711586</td>\n",
       "      <td>2140.251849</td>\n",
       "      <td>0.820912</td>\n",
       "      <td>1783.120789</td>\n",
       "      <td>2.538127</td>\n",
       "    </tr>\n",
       "    <tr>\n",
       "      <th>std</th>\n",
       "      <td>1.945944e+08</td>\n",
       "      <td>7.098079</td>\n",
       "      <td>663.843460</td>\n",
       "      <td>268.597468</td>\n",
       "      <td>123.711599</td>\n",
       "      <td>713.285625</td>\n",
       "      <td>0.148683</td>\n",
       "      <td>594.407149</td>\n",
       "      <td>0.465065</td>\n",
       "    </tr>\n",
       "    <tr>\n",
       "      <th>min</th>\n",
       "      <td>1.010210e+08</td>\n",
       "      <td>10.000000</td>\n",
       "      <td>0.000000</td>\n",
       "      <td>0.000000</td>\n",
       "      <td>0.000000</td>\n",
       "      <td>0.000000</td>\n",
       "      <td>0.000000</td>\n",
       "      <td>0.000000</td>\n",
       "      <td>0.000000</td>\n",
       "    </tr>\n",
       "    <tr>\n",
       "      <th>25%</th>\n",
       "      <td>1.270215e+08</td>\n",
       "      <td>36.000000</td>\n",
       "      <td>1470.500000</td>\n",
       "      <td>681.000000</td>\n",
       "      <td>295.000000</td>\n",
       "      <td>1678.000000</td>\n",
       "      <td>0.800000</td>\n",
       "      <td>1355.000000</td>\n",
       "      <td>2.300000</td>\n",
       "    </tr>\n",
       "    <tr>\n",
       "      <th>50%</th>\n",
       "      <td>3.030211e+08</td>\n",
       "      <td>40.000000</td>\n",
       "      <td>1820.000000</td>\n",
       "      <td>803.000000</td>\n",
       "      <td>369.000000</td>\n",
       "      <td>2087.000000</td>\n",
       "      <td>0.800000</td>\n",
       "      <td>1742.000000</td>\n",
       "      <td>2.500000</td>\n",
       "    </tr>\n",
       "    <tr>\n",
       "      <th>75%</th>\n",
       "      <td>4.050311e+08</td>\n",
       "      <td>44.000000</td>\n",
       "      <td>2167.000000</td>\n",
       "      <td>962.000000</td>\n",
       "      <td>430.000000</td>\n",
       "      <td>2481.000000</td>\n",
       "      <td>0.900000</td>\n",
       "      <td>2144.500000</td>\n",
       "      <td>2.800000</td>\n",
       "    </tr>\n",
       "    <tr>\n",
       "      <th>max</th>\n",
       "      <td>9.010410e+08</td>\n",
       "      <td>91.000000</td>\n",
       "      <td>9999.000000</td>\n",
       "      <td>3250.000000</td>\n",
       "      <td>1200.000000</td>\n",
       "      <td>7000.000000</td>\n",
       "      <td>2.000000</td>\n",
       "      <td>7000.000000</td>\n",
       "      <td>6.000000</td>\n",
       "    </tr>\n",
       "  </tbody>\n",
       "</table>\n",
       "</div>"
      ],
      "text/plain": [
       "       SA2_CODE_2021  Median_age_persons  Median_mortgage_repay_monthly  \\\n",
       "count   2.434000e+03         2434.000000                    2434.000000   \n",
       "mean    3.142369e+08           40.349219                    1827.395234   \n",
       "std     1.945944e+08            7.098079                     663.843460   \n",
       "min     1.010210e+08           10.000000                       0.000000   \n",
       "25%     1.270215e+08           36.000000                    1470.500000   \n",
       "50%     3.030211e+08           40.000000                    1820.000000   \n",
       "75%     4.050311e+08           44.000000                    2167.000000   \n",
       "max     9.010410e+08           91.000000                    9999.000000   \n",
       "\n",
       "       Median_tot_prsnl_inc_weekly  Median_rent_weekly  \\\n",
       "count                  2434.000000         2434.000000   \n",
       "mean                    848.050534          362.711586   \n",
       "std                     268.597468          123.711599   \n",
       "min                       0.000000            0.000000   \n",
       "25%                     681.000000          295.000000   \n",
       "50%                     803.000000          369.000000   \n",
       "75%                     962.000000          430.000000   \n",
       "max                    3250.000000         1200.000000   \n",
       "\n",
       "       Median_tot_fam_inc_weekly  Average_num_psns_per_bedroom  \\\n",
       "count                2434.000000                   2434.000000   \n",
       "mean                 2140.251849                      0.820912   \n",
       "std                   713.285625                      0.148683   \n",
       "min                     0.000000                      0.000000   \n",
       "25%                  1678.000000                      0.800000   \n",
       "50%                  2087.000000                      0.800000   \n",
       "75%                  2481.000000                      0.900000   \n",
       "max                  7000.000000                      2.000000   \n",
       "\n",
       "       Median_tot_hhd_inc_weekly  Average_household_size  \n",
       "count                2434.000000             2434.000000  \n",
       "mean                 1783.120789                2.538127  \n",
       "std                   594.407149                0.465065  \n",
       "min                     0.000000                0.000000  \n",
       "25%                  1355.000000                2.300000  \n",
       "50%                  1742.000000                2.500000  \n",
       "75%                  2144.500000                2.800000  \n",
       "max                  7000.000000                6.000000  "
      ]
     },
     "execution_count": 73,
     "metadata": {},
     "output_type": "execute_result"
    }
   ],
   "source": [
    "census_df.describe()"
   ]
  },
  {
   "cell_type": "code",
   "execution_count": 74,
   "metadata": {},
   "outputs": [
    {
     "data": {
      "text/plain": [
       "(2434, 9)"
      ]
     },
     "execution_count": 74,
     "metadata": {},
     "output_type": "execute_result"
    }
   ],
   "source": [
    "census_df.shape"
   ]
  },
  {
   "cell_type": "code",
   "execution_count": 75,
   "metadata": {},
   "outputs": [
    {
     "name": "stderr",
     "output_type": "stream",
     "text": [
      "                                                                                \r"
     ]
    }
   ],
   "source": [
    "# save the DataFrame as parquet file\n",
    "census = spark.createDataFrame(census_df)\n",
    "census.write.parquet('../data/curated/census', mode='overwrite')"
   ]
  },
  {
   "cell_type": "markdown",
   "metadata": {},
   "source": [
    "### Population dataset\n",
    "https://www.abs.gov.au/statistics/people/population/regional-population/2021-22/32180DS0003_2001-22r.xlsx"
   ]
  },
  {
   "cell_type": "code",
   "execution_count": 76,
   "metadata": {},
   "outputs": [
    {
     "data": {
      "text/html": [
       "<div>\n",
       "<style scoped>\n",
       "    .dataframe tbody tr th:only-of-type {\n",
       "        vertical-align: middle;\n",
       "    }\n",
       "\n",
       "    .dataframe tbody tr th {\n",
       "        vertical-align: top;\n",
       "    }\n",
       "\n",
       "    .dataframe thead tr th {\n",
       "        text-align: left;\n",
       "    }\n",
       "</style>\n",
       "<table border=\"1\" class=\"dataframe\">\n",
       "  <thead>\n",
       "    <tr>\n",
       "      <th></th>\n",
       "      <th>Unnamed: 0_level_0</th>\n",
       "      <th>Unnamed: 1_level_0</th>\n",
       "      <th>Unnamed: 2_level_0</th>\n",
       "      <th>Unnamed: 3_level_0</th>\n",
       "      <th>Unnamed: 4_level_0</th>\n",
       "      <th>Unnamed: 5_level_0</th>\n",
       "      <th>Unnamed: 6_level_0</th>\n",
       "      <th>Unnamed: 7_level_0</th>\n",
       "      <th>Unnamed: 8_level_0</th>\n",
       "      <th>Unnamed: 9_level_0</th>\n",
       "      <th>...</th>\n",
       "      <th>2013</th>\n",
       "      <th>2014</th>\n",
       "      <th>2015</th>\n",
       "      <th>2016</th>\n",
       "      <th>2017</th>\n",
       "      <th>2018</th>\n",
       "      <th>2019</th>\n",
       "      <th>2020</th>\n",
       "      <th>2021</th>\n",
       "      <th>2022</th>\n",
       "    </tr>\n",
       "    <tr>\n",
       "      <th></th>\n",
       "      <th>S/T code</th>\n",
       "      <th>S/T name</th>\n",
       "      <th>GCCSA code</th>\n",
       "      <th>GCCSA name</th>\n",
       "      <th>SA4 code</th>\n",
       "      <th>SA4 name</th>\n",
       "      <th>SA3 code</th>\n",
       "      <th>SA3 name</th>\n",
       "      <th>SA2 code</th>\n",
       "      <th>SA2 name</th>\n",
       "      <th>...</th>\n",
       "      <th>no.</th>\n",
       "      <th>no.</th>\n",
       "      <th>no.</th>\n",
       "      <th>no.</th>\n",
       "      <th>no.</th>\n",
       "      <th>no.</th>\n",
       "      <th>no.</th>\n",
       "      <th>no.</th>\n",
       "      <th>no.</th>\n",
       "      <th>no.</th>\n",
       "    </tr>\n",
       "  </thead>\n",
       "  <tbody>\n",
       "    <tr>\n",
       "      <th>0</th>\n",
       "      <td>NaN</td>\n",
       "      <td>NaN</td>\n",
       "      <td>NaN</td>\n",
       "      <td>NaN</td>\n",
       "      <td>NaN</td>\n",
       "      <td>NaN</td>\n",
       "      <td>NaN</td>\n",
       "      <td>NaN</td>\n",
       "      <td>NaN</td>\n",
       "      <td>NaN</td>\n",
       "      <td>...</td>\n",
       "      <td>NaN</td>\n",
       "      <td>NaN</td>\n",
       "      <td>NaN</td>\n",
       "      <td>NaN</td>\n",
       "      <td>NaN</td>\n",
       "      <td>NaN</td>\n",
       "      <td>NaN</td>\n",
       "      <td>NaN</td>\n",
       "      <td>NaN</td>\n",
       "      <td>NaN</td>\n",
       "    </tr>\n",
       "    <tr>\n",
       "      <th>1</th>\n",
       "      <td>1</td>\n",
       "      <td>New South Wales</td>\n",
       "      <td>12.0</td>\n",
       "      <td>Rest of NSW</td>\n",
       "      <td>101.0</td>\n",
       "      <td>Capital Region</td>\n",
       "      <td>10102.0</td>\n",
       "      <td>Queanbeyan</td>\n",
       "      <td>101021007.0</td>\n",
       "      <td>Braidwood</td>\n",
       "      <td>...</td>\n",
       "      <td>3685</td>\n",
       "      <td>3762</td>\n",
       "      <td>3849</td>\n",
       "      <td>3950.0</td>\n",
       "      <td>4041.0</td>\n",
       "      <td>4145.0</td>\n",
       "      <td>4218.0</td>\n",
       "      <td>4282.0</td>\n",
       "      <td>4332.0</td>\n",
       "      <td>4366.0</td>\n",
       "    </tr>\n",
       "    <tr>\n",
       "      <th>2</th>\n",
       "      <td>1</td>\n",
       "      <td>New South Wales</td>\n",
       "      <td>12.0</td>\n",
       "      <td>Rest of NSW</td>\n",
       "      <td>101.0</td>\n",
       "      <td>Capital Region</td>\n",
       "      <td>10102.0</td>\n",
       "      <td>Queanbeyan</td>\n",
       "      <td>101021008.0</td>\n",
       "      <td>Karabar</td>\n",
       "      <td>...</td>\n",
       "      <td>8848</td>\n",
       "      <td>8731</td>\n",
       "      <td>8603</td>\n",
       "      <td>8531.0</td>\n",
       "      <td>8530.0</td>\n",
       "      <td>8516.0</td>\n",
       "      <td>8500.0</td>\n",
       "      <td>8535.0</td>\n",
       "      <td>8548.0</td>\n",
       "      <td>8528.0</td>\n",
       "    </tr>\n",
       "    <tr>\n",
       "      <th>3</th>\n",
       "      <td>1</td>\n",
       "      <td>New South Wales</td>\n",
       "      <td>12.0</td>\n",
       "      <td>Rest of NSW</td>\n",
       "      <td>101.0</td>\n",
       "      <td>Capital Region</td>\n",
       "      <td>10102.0</td>\n",
       "      <td>Queanbeyan</td>\n",
       "      <td>101021009.0</td>\n",
       "      <td>Queanbeyan</td>\n",
       "      <td>...</td>\n",
       "      <td>11050</td>\n",
       "      <td>11199</td>\n",
       "      <td>11213</td>\n",
       "      <td>11230.0</td>\n",
       "      <td>11362.0</td>\n",
       "      <td>11460.0</td>\n",
       "      <td>11468.0</td>\n",
       "      <td>11460.0</td>\n",
       "      <td>11375.0</td>\n",
       "      <td>11390.0</td>\n",
       "    </tr>\n",
       "    <tr>\n",
       "      <th>4</th>\n",
       "      <td>1</td>\n",
       "      <td>New South Wales</td>\n",
       "      <td>12.0</td>\n",
       "      <td>Rest of NSW</td>\n",
       "      <td>101.0</td>\n",
       "      <td>Capital Region</td>\n",
       "      <td>10102.0</td>\n",
       "      <td>Queanbeyan</td>\n",
       "      <td>101021010.0</td>\n",
       "      <td>Queanbeyan - East</td>\n",
       "      <td>...</td>\n",
       "      <td>4983</td>\n",
       "      <td>4967</td>\n",
       "      <td>4961</td>\n",
       "      <td>4970.0</td>\n",
       "      <td>5016.0</td>\n",
       "      <td>5079.0</td>\n",
       "      <td>5126.0</td>\n",
       "      <td>5089.0</td>\n",
       "      <td>5097.0</td>\n",
       "      <td>5090.0</td>\n",
       "    </tr>\n",
       "  </tbody>\n",
       "</table>\n",
       "<p>5 rows × 32 columns</p>\n",
       "</div>"
      ],
      "text/plain": [
       "  Unnamed: 0_level_0 Unnamed: 1_level_0 Unnamed: 2_level_0 Unnamed: 3_level_0  \\\n",
       "            S/T code           S/T name         GCCSA code         GCCSA name   \n",
       "0                NaN                NaN                NaN                NaN   \n",
       "1                  1    New South Wales               12.0        Rest of NSW   \n",
       "2                  1    New South Wales               12.0        Rest of NSW   \n",
       "3                  1    New South Wales               12.0        Rest of NSW   \n",
       "4                  1    New South Wales               12.0        Rest of NSW   \n",
       "\n",
       "  Unnamed: 4_level_0 Unnamed: 5_level_0 Unnamed: 6_level_0 Unnamed: 7_level_0  \\\n",
       "            SA4 code           SA4 name           SA3 code           SA3 name   \n",
       "0                NaN                NaN                NaN                NaN   \n",
       "1              101.0     Capital Region            10102.0         Queanbeyan   \n",
       "2              101.0     Capital Region            10102.0         Queanbeyan   \n",
       "3              101.0     Capital Region            10102.0         Queanbeyan   \n",
       "4              101.0     Capital Region            10102.0         Queanbeyan   \n",
       "\n",
       "  Unnamed: 8_level_0 Unnamed: 9_level_0  ...   2013   2014   2015     2016  \\\n",
       "            SA2 code           SA2 name  ...    no.    no.    no.      no.   \n",
       "0                NaN                NaN  ...    NaN    NaN    NaN      NaN   \n",
       "1        101021007.0          Braidwood  ...   3685   3762   3849   3950.0   \n",
       "2        101021008.0            Karabar  ...   8848   8731   8603   8531.0   \n",
       "3        101021009.0         Queanbeyan  ...  11050  11199  11213  11230.0   \n",
       "4        101021010.0  Queanbeyan - East  ...   4983   4967   4961   4970.0   \n",
       "\n",
       "      2017     2018     2019     2020     2021     2022  \n",
       "       no.      no.      no.      no.      no.      no.  \n",
       "0      NaN      NaN      NaN      NaN      NaN      NaN  \n",
       "1   4041.0   4145.0   4218.0   4282.0   4332.0   4366.0  \n",
       "2   8530.0   8516.0   8500.0   8535.0   8548.0   8528.0  \n",
       "3  11362.0  11460.0  11468.0  11460.0  11375.0  11390.0  \n",
       "4   5016.0   5079.0   5126.0   5089.0   5097.0   5090.0  \n",
       "\n",
       "[5 rows x 32 columns]"
      ]
     },
     "execution_count": 76,
     "metadata": {},
     "output_type": "execute_result"
    }
   ],
   "source": [
    "# read the first Excel sheet\n",
    "population_pandas = pd.read_excel('../data/tables/32180DS0003_2001-22r.xlsx', sheet_name=1, header=[6, 7])\n",
    "population_pandas.head()"
   ]
  },
  {
   "cell_type": "code",
   "execution_count": 99,
   "metadata": {},
   "outputs": [
    {
     "data": {
      "text/plain": [
       "MultiIndex([('Unnamed: 0_level_0',   'S/T code'),\n",
       "            ('Unnamed: 1_level_0',   'S/T name'),\n",
       "            ('Unnamed: 2_level_0', 'GCCSA code'),\n",
       "            ('Unnamed: 3_level_0', 'GCCSA name'),\n",
       "            ('Unnamed: 4_level_0',   'SA4 code'),\n",
       "            ('Unnamed: 5_level_0',   'SA4 name'),\n",
       "            ('Unnamed: 6_level_0',   'SA3 code'),\n",
       "            ('Unnamed: 7_level_0',   'SA3 name'),\n",
       "            ('Unnamed: 8_level_0',   'SA2 code'),\n",
       "            ('Unnamed: 9_level_0',   'SA2 name'),\n",
       "            (                2001,        'no.'),\n",
       "            (                2002,        'no.'),\n",
       "            (                2003,        'no.'),\n",
       "            (                2004,        'no.'),\n",
       "            (                2005,        'no.'),\n",
       "            (                2006,        'no.'),\n",
       "            (                2007,        'no.'),\n",
       "            (                2008,        'no.'),\n",
       "            (                2009,        'no.'),\n",
       "            (                2010,        'no.'),\n",
       "            (                2011,        'no.'),\n",
       "            (                2012,        'no.'),\n",
       "            (                2013,        'no.'),\n",
       "            (                2014,        'no.'),\n",
       "            (                2015,        'no.'),\n",
       "            (                2016,        'no.'),\n",
       "            (                2017,        'no.'),\n",
       "            (                2018,        'no.'),\n",
       "            (                2019,        'no.'),\n",
       "            (                2020,        'no.'),\n",
       "            (                2021,        'no.'),\n",
       "            (                2022,        'no.')],\n",
       "           )"
      ]
     },
     "execution_count": 99,
     "metadata": {},
     "output_type": "execute_result"
    }
   ],
   "source": [
    "population_pandas.columns"
   ]
  },
  {
   "cell_type": "code",
   "execution_count": 78,
   "metadata": {},
   "outputs": [
    {
     "data": {
      "text/html": [
       "<div>\n",
       "<style scoped>\n",
       "    .dataframe tbody tr th:only-of-type {\n",
       "        vertical-align: middle;\n",
       "    }\n",
       "\n",
       "    .dataframe tbody tr th {\n",
       "        vertical-align: top;\n",
       "    }\n",
       "\n",
       "    .dataframe thead th {\n",
       "        text-align: right;\n",
       "    }\n",
       "</style>\n",
       "<table border=\"1\" class=\"dataframe\">\n",
       "  <thead>\n",
       "    <tr style=\"text-align: right;\">\n",
       "      <th></th>\n",
       "      <th>SA2_name</th>\n",
       "      <th>2021</th>\n",
       "      <th>2022</th>\n",
       "    </tr>\n",
       "  </thead>\n",
       "  <tbody>\n",
       "    <tr>\n",
       "      <th>0</th>\n",
       "      <td>Braidwood</td>\n",
       "      <td>4332.0</td>\n",
       "      <td>4366.0</td>\n",
       "    </tr>\n",
       "    <tr>\n",
       "      <th>1</th>\n",
       "      <td>Karabar</td>\n",
       "      <td>8548.0</td>\n",
       "      <td>8528.0</td>\n",
       "    </tr>\n",
       "    <tr>\n",
       "      <th>2</th>\n",
       "      <td>Queanbeyan</td>\n",
       "      <td>11375.0</td>\n",
       "      <td>11390.0</td>\n",
       "    </tr>\n",
       "    <tr>\n",
       "      <th>3</th>\n",
       "      <td>Queanbeyan - East</td>\n",
       "      <td>5097.0</td>\n",
       "      <td>5090.0</td>\n",
       "    </tr>\n",
       "    <tr>\n",
       "      <th>4</th>\n",
       "      <td>Queanbeyan West - Jerrabomberra</td>\n",
       "      <td>12748.0</td>\n",
       "      <td>12779.0</td>\n",
       "    </tr>\n",
       "  </tbody>\n",
       "</table>\n",
       "</div>"
      ],
      "text/plain": [
       "                          SA2_name     2021     2022\n",
       "0                        Braidwood   4332.0   4366.0\n",
       "1                          Karabar   8548.0   8528.0\n",
       "2                       Queanbeyan  11375.0  11390.0\n",
       "3                Queanbeyan - East   5097.0   5090.0\n",
       "4  Queanbeyan West - Jerrabomberra  12748.0  12779.0"
      ]
     },
     "execution_count": 78,
     "metadata": {},
     "output_type": "execute_result"
    }
   ],
   "source": [
    "# columns of interest\n",
    "columns_of_interest = [\n",
    "    ('Unnamed: 9_level_0', 'SA2 name'),\n",
    "    (2021, 'no.'),\n",
    "    (2022, 'no.')\n",
    "]\n",
    "\n",
    "# selected columns\n",
    "population_selected = population_pandas.loc[:, columns_of_interest]\n",
    "\n",
    "# rename the columns\n",
    "population_selected.columns = ['SA2_name', '2021', '2022']\n",
    "\n",
    "# remove the specific row with all NaNs\n",
    "population_selected_cleaned = population_selected[population_selected.notna().all(axis=1)]\n",
    "\n",
    "# reset the index to maintain a clean index\n",
    "population_selected_cleaned = population_selected_cleaned.reset_index(drop=True)\n",
    "population_selected_cleaned.head()"
   ]
  },
  {
   "cell_type": "code",
   "execution_count": 79,
   "metadata": {},
   "outputs": [
    {
     "data": {
      "text/plain": [
       "SA2_name     object\n",
       "2021        float64\n",
       "2022        float64\n",
       "dtype: object"
      ]
     },
     "execution_count": 79,
     "metadata": {},
     "output_type": "execute_result"
    }
   ],
   "source": [
    "population_selected_cleaned.dtypes"
   ]
  },
  {
   "cell_type": "code",
   "execution_count": 80,
   "metadata": {},
   "outputs": [
    {
     "name": "stdout",
     "output_type": "stream",
     "text": [
      "NaN values summary:\n",
      "SA2_name    0\n",
      "2021        0\n",
      "2022        0\n",
      "dtype: int64\n"
     ]
    }
   ],
   "source": [
    "# remaining NaN values\n",
    "missing_value = population_selected_cleaned.isna().sum()\n",
    "print(\"NaN values summary:\")\n",
    "print(missing_value)"
   ]
  },
  {
   "cell_type": "code",
   "execution_count": 81,
   "metadata": {},
   "outputs": [
    {
     "name": "stdout",
     "output_type": "stream",
     "text": [
      "DataFrame after averaging population of 2021 and 2022:\n"
     ]
    },
    {
     "data": {
      "text/html": [
       "<div>\n",
       "<style scoped>\n",
       "    .dataframe tbody tr th:only-of-type {\n",
       "        vertical-align: middle;\n",
       "    }\n",
       "\n",
       "    .dataframe tbody tr th {\n",
       "        vertical-align: top;\n",
       "    }\n",
       "\n",
       "    .dataframe thead th {\n",
       "        text-align: right;\n",
       "    }\n",
       "</style>\n",
       "<table border=\"1\" class=\"dataframe\">\n",
       "  <thead>\n",
       "    <tr style=\"text-align: right;\">\n",
       "      <th></th>\n",
       "      <th>SA2_name</th>\n",
       "      <th>average_population</th>\n",
       "    </tr>\n",
       "  </thead>\n",
       "  <tbody>\n",
       "    <tr>\n",
       "      <th>0</th>\n",
       "      <td>Braidwood</td>\n",
       "      <td>4349.0</td>\n",
       "    </tr>\n",
       "    <tr>\n",
       "      <th>1</th>\n",
       "      <td>Karabar</td>\n",
       "      <td>8538.0</td>\n",
       "    </tr>\n",
       "    <tr>\n",
       "      <th>2</th>\n",
       "      <td>Queanbeyan</td>\n",
       "      <td>11382.5</td>\n",
       "    </tr>\n",
       "    <tr>\n",
       "      <th>3</th>\n",
       "      <td>Queanbeyan - East</td>\n",
       "      <td>5093.5</td>\n",
       "    </tr>\n",
       "    <tr>\n",
       "      <th>4</th>\n",
       "      <td>Queanbeyan West - Jerrabomberra</td>\n",
       "      <td>12763.5</td>\n",
       "    </tr>\n",
       "  </tbody>\n",
       "</table>\n",
       "</div>"
      ],
      "text/plain": [
       "                          SA2_name  average_population\n",
       "0                        Braidwood              4349.0\n",
       "1                          Karabar              8538.0\n",
       "2                       Queanbeyan             11382.5\n",
       "3                Queanbeyan - East              5093.5\n",
       "4  Queanbeyan West - Jerrabomberra             12763.5"
      ]
     },
     "execution_count": 81,
     "metadata": {},
     "output_type": "execute_result"
    }
   ],
   "source": [
    "# check if '2021' and '2022' columns are present\n",
    "if '2021' in population_selected_cleaned.columns and '2022' in population_selected_cleaned.columns:\n",
    "    \n",
    "    # create a new column 'average_population' that averages the '2021' and '2022' columns\n",
    "    population_selected_cleaned['average_population'] = population_selected_cleaned[['2021', '2022']].mean(axis=1)\n",
    "    \n",
    "    # drop the '2021' and '2022' columns\n",
    "    population_selected_cleaned = population_selected_cleaned.drop(columns=['2021', '2022'])\n",
    "    \n",
    "else:\n",
    "    print(\"The columns '2021' and '2022' are not present in the DataFrame.\")\n",
    "\n",
    "# dataFrame with the average column\n",
    "print(\"DataFrame after averaging population of 2021 and 2022:\")\n",
    "population_selected_cleaned.head()"
   ]
  },
  {
   "cell_type": "code",
   "execution_count": 82,
   "metadata": {},
   "outputs": [],
   "source": [
    "# convert Pandas DataFrame to Spark DataFrame\n",
    "population = spark.createDataFrame(population_selected_cleaned)\n",
    "\n",
    "# save as a Parquet file\n",
    "population.write.parquet('../data/curated/population', mode='overwrite')"
   ]
  },
  {
   "cell_type": "markdown",
   "metadata": {},
   "source": [
    "### Unemployment dataset\n",
    "https://explore.data.abs.gov.au/vis?tm=unemployment%20sa2&pg=0&df[ds]=C21_ASGS&df[id]=C21_G43_SA2&df[ag]=ABS&df[vs]=1.0.0&pd=2021%2C&dq=LFS_P1.3...&ly[rs]=REGION"
   ]
  },
  {
   "cell_type": "code",
   "execution_count": 83,
   "metadata": {},
   "outputs": [
    {
     "data": {
      "text/html": [
       "<div>\n",
       "<style scoped>\n",
       "    .dataframe tbody tr th:only-of-type {\n",
       "        vertical-align: middle;\n",
       "    }\n",
       "\n",
       "    .dataframe tbody tr th {\n",
       "        vertical-align: top;\n",
       "    }\n",
       "\n",
       "    .dataframe thead th {\n",
       "        text-align: right;\n",
       "    }\n",
       "</style>\n",
       "<table border=\"1\" class=\"dataframe\">\n",
       "  <thead>\n",
       "    <tr style=\"text-align: right;\">\n",
       "      <th></th>\n",
       "      <th>DATAFLOW</th>\n",
       "      <th>LFEMP: Selected Labour Force/Education/Migration characteristic</th>\n",
       "      <th>SEXP: Sex</th>\n",
       "      <th>REGION: Region</th>\n",
       "      <th>REGION_TYPE: Region Type</th>\n",
       "      <th>STATE: State</th>\n",
       "      <th>TIME_PERIOD: Time Period</th>\n",
       "      <th>OBS_VALUE</th>\n",
       "    </tr>\n",
       "  </thead>\n",
       "  <tbody>\n",
       "    <tr>\n",
       "      <th>0</th>\n",
       "      <td>ABS:C21_G43_SA2(1.0.0)</td>\n",
       "      <td>LFS_P1: Labour force status: % Unemployment</td>\n",
       "      <td>3: Persons</td>\n",
       "      <td>101021611: Queanbeyan Surrounds</td>\n",
       "      <td>SA2: Statistical Area Level 2</td>\n",
       "      <td>1: New South Wales</td>\n",
       "      <td>2021</td>\n",
       "      <td>2.6</td>\n",
       "    </tr>\n",
       "    <tr>\n",
       "      <th>1</th>\n",
       "      <td>ABS:C21_G43_SA2(1.0.0)</td>\n",
       "      <td>LFS_P1: Labour force status: % Unemployment</td>\n",
       "      <td>3: Persons</td>\n",
       "      <td>107011134: Unanderra - Mount Kembla</td>\n",
       "      <td>SA2: Statistical Area Level 2</td>\n",
       "      <td>1: New South Wales</td>\n",
       "      <td>2021</td>\n",
       "      <td>4.2</td>\n",
       "    </tr>\n",
       "    <tr>\n",
       "      <th>2</th>\n",
       "      <td>ABS:C21_G43_SA2(1.0.0)</td>\n",
       "      <td>LFS_P1: Labour force status: % Unemployment</td>\n",
       "      <td>3: Persons</td>\n",
       "      <td>204031069: Bright - Mount Beauty</td>\n",
       "      <td>SA2: Statistical Area Level 2</td>\n",
       "      <td>2: Victoria</td>\n",
       "      <td>2021</td>\n",
       "      <td>1.8</td>\n",
       "    </tr>\n",
       "    <tr>\n",
       "      <th>3</th>\n",
       "      <td>ABS:C21_G43_SA2(1.0.0)</td>\n",
       "      <td>LFS_P1: Labour force status: % Unemployment</td>\n",
       "      <td>3: Persons</td>\n",
       "      <td>211051280: Montrose</td>\n",
       "      <td>SA2: Statistical Area Level 2</td>\n",
       "      <td>2: Victoria</td>\n",
       "      <td>2021</td>\n",
       "      <td>3.1</td>\n",
       "    </tr>\n",
       "    <tr>\n",
       "      <th>4</th>\n",
       "      <td>ABS:C21_G43_SA2(1.0.0)</td>\n",
       "      <td>LFS_P1: Labour force status: % Unemployment</td>\n",
       "      <td>3: Persons</td>\n",
       "      <td>213051468: Werribee - West</td>\n",
       "      <td>SA2: Statistical Area Level 2</td>\n",
       "      <td>2: Victoria</td>\n",
       "      <td>2021</td>\n",
       "      <td>6.2</td>\n",
       "    </tr>\n",
       "  </tbody>\n",
       "</table>\n",
       "</div>"
      ],
      "text/plain": [
       "                 DATAFLOW  \\\n",
       "0  ABS:C21_G43_SA2(1.0.0)   \n",
       "1  ABS:C21_G43_SA2(1.0.0)   \n",
       "2  ABS:C21_G43_SA2(1.0.0)   \n",
       "3  ABS:C21_G43_SA2(1.0.0)   \n",
       "4  ABS:C21_G43_SA2(1.0.0)   \n",
       "\n",
       "  LFEMP: Selected Labour Force/Education/Migration characteristic   SEXP: Sex  \\\n",
       "0        LFS_P1: Labour force status: % Unemployment               3: Persons   \n",
       "1        LFS_P1: Labour force status: % Unemployment               3: Persons   \n",
       "2        LFS_P1: Labour force status: % Unemployment               3: Persons   \n",
       "3        LFS_P1: Labour force status: % Unemployment               3: Persons   \n",
       "4        LFS_P1: Labour force status: % Unemployment               3: Persons   \n",
       "\n",
       "                        REGION: Region       REGION_TYPE: Region Type  \\\n",
       "0      101021611: Queanbeyan Surrounds  SA2: Statistical Area Level 2   \n",
       "1  107011134: Unanderra - Mount Kembla  SA2: Statistical Area Level 2   \n",
       "2     204031069: Bright - Mount Beauty  SA2: Statistical Area Level 2   \n",
       "3                  211051280: Montrose  SA2: Statistical Area Level 2   \n",
       "4           213051468: Werribee - West  SA2: Statistical Area Level 2   \n",
       "\n",
       "         STATE: State  TIME_PERIOD: Time Period  OBS_VALUE  \n",
       "0  1: New South Wales                      2021        2.6  \n",
       "1  1: New South Wales                      2021        4.2  \n",
       "2         2: Victoria                      2021        1.8  \n",
       "3         2: Victoria                      2021        3.1  \n",
       "4         2: Victoria                      2021        6.2  "
      ]
     },
     "execution_count": 83,
     "metadata": {},
     "output_type": "execute_result"
    }
   ],
   "source": [
    "# read the CSV file\n",
    "unemployment = pd.read_csv('../data/tables/ABS_C21_G43_SA2_1.0.0_LFS_P1.3....csv')\n",
    "unemployment.head(5)"
   ]
  },
  {
   "cell_type": "code",
   "execution_count": 84,
   "metadata": {},
   "outputs": [
    {
     "data": {
      "text/html": [
       "<div>\n",
       "<style scoped>\n",
       "    .dataframe tbody tr th:only-of-type {\n",
       "        vertical-align: middle;\n",
       "    }\n",
       "\n",
       "    .dataframe tbody tr th {\n",
       "        vertical-align: top;\n",
       "    }\n",
       "\n",
       "    .dataframe thead th {\n",
       "        text-align: right;\n",
       "    }\n",
       "</style>\n",
       "<table border=\"1\" class=\"dataframe\">\n",
       "  <thead>\n",
       "    <tr style=\"text-align: right;\">\n",
       "      <th></th>\n",
       "      <th>SA2_name</th>\n",
       "      <th>unemployment_rate</th>\n",
       "    </tr>\n",
       "  </thead>\n",
       "  <tbody>\n",
       "    <tr>\n",
       "      <th>0</th>\n",
       "      <td>101021611: Queanbeyan Surrounds</td>\n",
       "      <td>2.6</td>\n",
       "    </tr>\n",
       "    <tr>\n",
       "      <th>1</th>\n",
       "      <td>107011134: Unanderra - Mount Kembla</td>\n",
       "      <td>4.2</td>\n",
       "    </tr>\n",
       "    <tr>\n",
       "      <th>2</th>\n",
       "      <td>204031069: Bright - Mount Beauty</td>\n",
       "      <td>1.8</td>\n",
       "    </tr>\n",
       "    <tr>\n",
       "      <th>3</th>\n",
       "      <td>211051280: Montrose</td>\n",
       "      <td>3.1</td>\n",
       "    </tr>\n",
       "    <tr>\n",
       "      <th>4</th>\n",
       "      <td>213051468: Werribee - West</td>\n",
       "      <td>6.2</td>\n",
       "    </tr>\n",
       "  </tbody>\n",
       "</table>\n",
       "</div>"
      ],
      "text/plain": [
       "                              SA2_name  unemployment_rate\n",
       "0      101021611: Queanbeyan Surrounds                2.6\n",
       "1  107011134: Unanderra - Mount Kembla                4.2\n",
       "2     204031069: Bright - Mount Beauty                1.8\n",
       "3                  211051280: Montrose                3.1\n",
       "4           213051468: Werribee - West                6.2"
      ]
     },
     "execution_count": 84,
     "metadata": {},
     "output_type": "execute_result"
    }
   ],
   "source": [
    "# select and rename the columns\n",
    "selected_unemp = unemployment[['REGION: Region', 'OBS_VALUE']]\n",
    "selected_unemp.columns = ['SA2_name', 'unemployment_rate']\n",
    "\n",
    "# selected columns\n",
    "selected_unemp.head()"
   ]
  },
  {
   "cell_type": "code",
   "execution_count": 85,
   "metadata": {},
   "outputs": [
    {
     "name": "stderr",
     "output_type": "stream",
     "text": [
      "/var/folders/rc/ddmw432j4cj3k9y_h6wn3npw0000gn/T/ipykernel_10605/3856389009.py:2: SettingWithCopyWarning: \n",
      "A value is trying to be set on a copy of a slice from a DataFrame.\n",
      "Try using .loc[row_indexer,col_indexer] = value instead\n",
      "\n",
      "See the caveats in the documentation: https://pandas.pydata.org/pandas-docs/stable/user_guide/indexing.html#returning-a-view-versus-a-copy\n",
      "  selected_unemp.loc[:, 'SA2_name'] = selected_unemp['SA2_name'].str.replace(r'^\\d+:\\s*', '', regex=True)\n"
     ]
    },
    {
     "data": {
      "text/html": [
       "<div>\n",
       "<style scoped>\n",
       "    .dataframe tbody tr th:only-of-type {\n",
       "        vertical-align: middle;\n",
       "    }\n",
       "\n",
       "    .dataframe tbody tr th {\n",
       "        vertical-align: top;\n",
       "    }\n",
       "\n",
       "    .dataframe thead th {\n",
       "        text-align: right;\n",
       "    }\n",
       "</style>\n",
       "<table border=\"1\" class=\"dataframe\">\n",
       "  <thead>\n",
       "    <tr style=\"text-align: right;\">\n",
       "      <th></th>\n",
       "      <th>SA2_name</th>\n",
       "      <th>unemployment_rate</th>\n",
       "    </tr>\n",
       "  </thead>\n",
       "  <tbody>\n",
       "    <tr>\n",
       "      <th>0</th>\n",
       "      <td>Queanbeyan Surrounds</td>\n",
       "      <td>2.6</td>\n",
       "    </tr>\n",
       "    <tr>\n",
       "      <th>1</th>\n",
       "      <td>Unanderra - Mount Kembla</td>\n",
       "      <td>4.2</td>\n",
       "    </tr>\n",
       "    <tr>\n",
       "      <th>2</th>\n",
       "      <td>Bright - Mount Beauty</td>\n",
       "      <td>1.8</td>\n",
       "    </tr>\n",
       "    <tr>\n",
       "      <th>3</th>\n",
       "      <td>Montrose</td>\n",
       "      <td>3.1</td>\n",
       "    </tr>\n",
       "    <tr>\n",
       "      <th>4</th>\n",
       "      <td>Werribee - West</td>\n",
       "      <td>6.2</td>\n",
       "    </tr>\n",
       "  </tbody>\n",
       "</table>\n",
       "</div>"
      ],
      "text/plain": [
       "                   SA2_name  unemployment_rate\n",
       "0      Queanbeyan Surrounds                2.6\n",
       "1  Unanderra - Mount Kembla                4.2\n",
       "2     Bright - Mount Beauty                1.8\n",
       "3                  Montrose                3.1\n",
       "4           Werribee - West                6.2"
      ]
     },
     "execution_count": 85,
     "metadata": {},
     "output_type": "execute_result"
    }
   ],
   "source": [
    "# remove numbers and colon from the 'SA2 name' column\n",
    "selected_unemp.loc[:, 'SA2_name'] = selected_unemp['SA2_name'].str.replace(r'^\\d+:\\s*', '', regex=True)\n",
    "\n",
    "# display the DataFrame with the cleaned 'SA2_name'\n",
    "selected_unemp.head()"
   ]
  },
  {
   "cell_type": "code",
   "execution_count": 86,
   "metadata": {},
   "outputs": [],
   "source": [
    "# convert Pandas DataFrame to Spark DataFrame\n",
    "unemployment = spark.createDataFrame(selected_unemp)\n",
    "\n",
    "# save the DataFrame as a Parquet file\n",
    "unemployment.write.parquet('../data/curated/unemployment', mode='overwrite')"
   ]
  },
  {
   "cell_type": "markdown",
   "metadata": {},
   "source": [
    "# Merge all external datasets"
   ]
  },
  {
   "cell_type": "code",
   "execution_count": 87,
   "metadata": {},
   "outputs": [],
   "source": [
    "# merge census and location\n",
    "census_sa2_df = pd.merge(census_df, postcode_sa2_geo, left_on='SA2_CODE_2021', right_on='SA2_MAINCODE_2021', how='inner')\n",
    "census_sa2_df = census_sa2_df.drop(['SA2_CODE_2021', 'SA2_MAINCODE_2021'], axis=1)\n",
    "\n",
    "# merge the above with and population\n",
    "census_sa2_pop_df = pd.merge(population_selected_cleaned, census_sa2_df, on='SA2_name', how='inner')\n",
    "\n",
    "# merge the above with unemployment rate\n",
    "census_sa2_pop_unemp_df = pd.merge(census_sa2_pop_df, selected_unemp, on='SA2_name', how='inner')"
   ]
  },
  {
   "cell_type": "code",
   "execution_count": 88,
   "metadata": {},
   "outputs": [
    {
     "data": {
      "text/plain": [
       "(4969, 14)"
      ]
     },
     "execution_count": 88,
     "metadata": {},
     "output_type": "execute_result"
    }
   ],
   "source": [
    "census_sa2_pop_unemp_df.shape"
   ]
  },
  {
   "cell_type": "code",
   "execution_count": 89,
   "metadata": {},
   "outputs": [
    {
     "data": {
      "text/plain": [
       "SA2_name                           object\n",
       "average_population                float64\n",
       "Median_age_persons                  int64\n",
       "Median_mortgage_repay_monthly       int64\n",
       "Median_tot_prsnl_inc_weekly         int64\n",
       "Median_rent_weekly                  int64\n",
       "Median_tot_fam_inc_weekly           int64\n",
       "Average_num_psns_per_bedroom      float64\n",
       "Median_tot_hhd_inc_weekly           int64\n",
       "Average_household_size            float64\n",
       "geometry                         geometry\n",
       "postcode                            int64\n",
       "state                              object\n",
       "unemployment_rate                 float64\n",
       "dtype: object"
      ]
     },
     "execution_count": 89,
     "metadata": {},
     "output_type": "execute_result"
    }
   ],
   "source": [
    "census_sa2_pop_unemp_df.dtypes"
   ]
  },
  {
   "cell_type": "code",
   "execution_count": 90,
   "metadata": {},
   "outputs": [
    {
     "name": "stdout",
     "output_type": "stream",
     "text": [
      "Column 'SA2_name' has 0 null values.\n",
      "Column 'average_population' has 0 null values.\n",
      "Column 'Median_age_persons' has 0 null values.\n",
      "Column 'Median_mortgage_repay_monthly' has 0 null values.\n",
      "Column 'Median_tot_prsnl_inc_weekly' has 0 null values.\n",
      "Column 'Median_rent_weekly' has 0 null values.\n",
      "Column 'Median_tot_fam_inc_weekly' has 0 null values.\n",
      "Column 'Average_num_psns_per_bedroom' has 0 null values.\n",
      "Column 'Median_tot_hhd_inc_weekly' has 0 null values.\n",
      "Column 'Average_household_size' has 0 null values.\n",
      "Column 'geometry' has 0 null values.\n",
      "Column 'postcode' has 0 null values.\n",
      "Column 'state' has 0 null values.\n",
      "Column 'unemployment_rate' has 0 null values.\n"
     ]
    }
   ],
   "source": [
    "# count the number of null in each column\n",
    "null_counts = census_sa2_pop_unemp_df.isnull().sum()\n",
    "for column, count in null_counts.items():\n",
    "    if count > 0:\n",
    "        print(f\"Column '{column}' has {count} null values.\")\n",
    "    else:\n",
    "        print(f\"Column '{column}' has 0 null values.\")"
   ]
  },
  {
   "cell_type": "code",
   "execution_count": 91,
   "metadata": {},
   "outputs": [
    {
     "name": "stdout",
     "output_type": "stream",
     "text": [
      "Column 'SA2_name' has 0 zero values.\n",
      "Column 'average_population' has 4 zero values.\n",
      "Column 'Median_age_persons' has 0 zero values.\n",
      "Column 'Median_mortgage_repay_monthly' has 58 zero values.\n",
      "Column 'Median_tot_prsnl_inc_weekly' has 3 zero values.\n",
      "Column 'Median_rent_weekly' has 33 zero values.\n",
      "Column 'Median_tot_fam_inc_weekly' has 22 zero values.\n",
      "Column 'Average_num_psns_per_bedroom' has 9 zero values.\n",
      "Column 'Median_tot_hhd_inc_weekly' has 12 zero values.\n",
      "Column 'Average_household_size' has 9 zero values.\n",
      "Column 'geometry' has 0 zero values.\n",
      "Column 'postcode' has 0 zero values.\n",
      "Column 'state' has 0 zero values.\n",
      "Column 'unemployment_rate' has 57 zero values.\n"
     ]
    }
   ],
   "source": [
    "# count the number of 0 in each column\n",
    "zero_counts = (census_sa2_pop_unemp_df == 0).sum()\n",
    "for column, count in zero_counts.items():\n",
    "    print(f\"Column '{column}' has {count} zero values.\")"
   ]
  },
  {
   "cell_type": "code",
   "execution_count": 92,
   "metadata": {},
   "outputs": [
    {
     "data": {
      "text/plain": [
       "(4969, 14)"
      ]
     },
     "execution_count": 92,
     "metadata": {},
     "output_type": "execute_result"
    }
   ],
   "source": [
    "# delete the rows that are all 0 except the `SA2_name`, `geometry`, `postcode`, and `state` column\n",
    "columns_to_check = census_sa2_pop_unemp_df.columns.difference(['SA2_name', 'geometry', 'postcode', 'state'])\n",
    "census_sa2_pop_unemp_df_cleaned = census_sa2_pop_unemp_df[(census_sa2_pop_unemp_df[columns_to_check] != 0).any(axis=1)]\n",
    "census_sa2_pop_unemp_df_cleaned.shape"
   ]
  },
  {
   "cell_type": "code",
   "execution_count": 93,
   "metadata": {},
   "outputs": [
    {
     "data": {
      "text/html": [
       "<div>\n",
       "<style scoped>\n",
       "    .dataframe tbody tr th:only-of-type {\n",
       "        vertical-align: middle;\n",
       "    }\n",
       "\n",
       "    .dataframe tbody tr th {\n",
       "        vertical-align: top;\n",
       "    }\n",
       "\n",
       "    .dataframe thead th {\n",
       "        text-align: right;\n",
       "    }\n",
       "</style>\n",
       "<table border=\"1\" class=\"dataframe\">\n",
       "  <thead>\n",
       "    <tr style=\"text-align: right;\">\n",
       "      <th></th>\n",
       "      <th>average_population</th>\n",
       "      <th>Median_age_persons</th>\n",
       "      <th>Median_mortgage_repay_monthly</th>\n",
       "      <th>Median_tot_prsnl_inc_weekly</th>\n",
       "      <th>Median_rent_weekly</th>\n",
       "      <th>Median_tot_fam_inc_weekly</th>\n",
       "      <th>Average_num_psns_per_bedroom</th>\n",
       "      <th>Median_tot_hhd_inc_weekly</th>\n",
       "      <th>Average_household_size</th>\n",
       "      <th>postcode</th>\n",
       "      <th>unemployment_rate</th>\n",
       "    </tr>\n",
       "  </thead>\n",
       "  <tbody>\n",
       "    <tr>\n",
       "      <th>count</th>\n",
       "      <td>4969.000000</td>\n",
       "      <td>4969.000000</td>\n",
       "      <td>4969.000000</td>\n",
       "      <td>4969.000000</td>\n",
       "      <td>4969.000000</td>\n",
       "      <td>4969.000000</td>\n",
       "      <td>4969.000000</td>\n",
       "      <td>4969.000000</td>\n",
       "      <td>4969.000000</td>\n",
       "      <td>4969.000000</td>\n",
       "      <td>4969.000000</td>\n",
       "    </tr>\n",
       "    <tr>\n",
       "      <th>mean</th>\n",
       "      <td>9765.708593</td>\n",
       "      <td>42.477963</td>\n",
       "      <td>1641.460052</td>\n",
       "      <td>797.392634</td>\n",
       "      <td>316.111491</td>\n",
       "      <td>1988.735560</td>\n",
       "      <td>0.800584</td>\n",
       "      <td>1638.860938</td>\n",
       "      <td>2.497786</td>\n",
       "      <td>4030.357818</td>\n",
       "      <td>4.670759</td>\n",
       "    </tr>\n",
       "    <tr>\n",
       "      <th>std</th>\n",
       "      <td>6035.311035</td>\n",
       "      <td>6.900428</td>\n",
       "      <td>622.554219</td>\n",
       "      <td>227.784335</td>\n",
       "      <td>121.914507</td>\n",
       "      <td>608.287984</td>\n",
       "      <td>0.125917</td>\n",
       "      <td>522.250357</td>\n",
       "      <td>0.373330</td>\n",
       "      <td>1529.038199</td>\n",
       "      <td>2.756597</td>\n",
       "    </tr>\n",
       "    <tr>\n",
       "      <th>min</th>\n",
       "      <td>0.000000</td>\n",
       "      <td>10.000000</td>\n",
       "      <td>0.000000</td>\n",
       "      <td>0.000000</td>\n",
       "      <td>0.000000</td>\n",
       "      <td>0.000000</td>\n",
       "      <td>0.000000</td>\n",
       "      <td>0.000000</td>\n",
       "      <td>0.000000</td>\n",
       "      <td>800.000000</td>\n",
       "      <td>0.000000</td>\n",
       "    </tr>\n",
       "    <tr>\n",
       "      <th>25%</th>\n",
       "      <td>5065.000000</td>\n",
       "      <td>38.000000</td>\n",
       "      <td>1213.000000</td>\n",
       "      <td>654.000000</td>\n",
       "      <td>230.000000</td>\n",
       "      <td>1579.000000</td>\n",
       "      <td>0.700000</td>\n",
       "      <td>1245.000000</td>\n",
       "      <td>2.300000</td>\n",
       "      <td>2734.000000</td>\n",
       "      <td>3.300000</td>\n",
       "    </tr>\n",
       "    <tr>\n",
       "      <th>50%</th>\n",
       "      <td>8194.500000</td>\n",
       "      <td>42.000000</td>\n",
       "      <td>1600.000000</td>\n",
       "      <td>759.000000</td>\n",
       "      <td>310.000000</td>\n",
       "      <td>1891.000000</td>\n",
       "      <td>0.800000</td>\n",
       "      <td>1501.000000</td>\n",
       "      <td>2.500000</td>\n",
       "      <td>3852.000000</td>\n",
       "      <td>4.100000</td>\n",
       "    </tr>\n",
       "    <tr>\n",
       "      <th>75%</th>\n",
       "      <td>13466.500000</td>\n",
       "      <td>47.000000</td>\n",
       "      <td>2000.000000</td>\n",
       "      <td>892.000000</td>\n",
       "      <td>400.000000</td>\n",
       "      <td>2284.000000</td>\n",
       "      <td>0.800000</td>\n",
       "      <td>1982.000000</td>\n",
       "      <td>2.700000</td>\n",
       "      <td>5109.000000</td>\n",
       "      <td>5.300000</td>\n",
       "    </tr>\n",
       "    <tr>\n",
       "      <th>max</th>\n",
       "      <td>28645.500000</td>\n",
       "      <td>91.000000</td>\n",
       "      <td>9999.000000</td>\n",
       "      <td>3250.000000</td>\n",
       "      <td>1200.000000</td>\n",
       "      <td>7000.000000</td>\n",
       "      <td>2.000000</td>\n",
       "      <td>4799.000000</td>\n",
       "      <td>6.000000</td>\n",
       "      <td>7470.000000</td>\n",
       "      <td>66.700000</td>\n",
       "    </tr>\n",
       "  </tbody>\n",
       "</table>\n",
       "</div>"
      ],
      "text/plain": [
       "       average_population  Median_age_persons  Median_mortgage_repay_monthly  \\\n",
       "count         4969.000000         4969.000000                    4969.000000   \n",
       "mean          9765.708593           42.477963                    1641.460052   \n",
       "std           6035.311035            6.900428                     622.554219   \n",
       "min              0.000000           10.000000                       0.000000   \n",
       "25%           5065.000000           38.000000                    1213.000000   \n",
       "50%           8194.500000           42.000000                    1600.000000   \n",
       "75%          13466.500000           47.000000                    2000.000000   \n",
       "max          28645.500000           91.000000                    9999.000000   \n",
       "\n",
       "       Median_tot_prsnl_inc_weekly  Median_rent_weekly  \\\n",
       "count                  4969.000000         4969.000000   \n",
       "mean                    797.392634          316.111491   \n",
       "std                     227.784335          121.914507   \n",
       "min                       0.000000            0.000000   \n",
       "25%                     654.000000          230.000000   \n",
       "50%                     759.000000          310.000000   \n",
       "75%                     892.000000          400.000000   \n",
       "max                    3250.000000         1200.000000   \n",
       "\n",
       "       Median_tot_fam_inc_weekly  Average_num_psns_per_bedroom  \\\n",
       "count                4969.000000                   4969.000000   \n",
       "mean                 1988.735560                      0.800584   \n",
       "std                   608.287984                      0.125917   \n",
       "min                     0.000000                      0.000000   \n",
       "25%                  1579.000000                      0.700000   \n",
       "50%                  1891.000000                      0.800000   \n",
       "75%                  2284.000000                      0.800000   \n",
       "max                  7000.000000                      2.000000   \n",
       "\n",
       "       Median_tot_hhd_inc_weekly  Average_household_size     postcode  \\\n",
       "count                4969.000000             4969.000000  4969.000000   \n",
       "mean                 1638.860938                2.497786  4030.357818   \n",
       "std                   522.250357                0.373330  1529.038199   \n",
       "min                     0.000000                0.000000   800.000000   \n",
       "25%                  1245.000000                2.300000  2734.000000   \n",
       "50%                  1501.000000                2.500000  3852.000000   \n",
       "75%                  1982.000000                2.700000  5109.000000   \n",
       "max                  4799.000000                6.000000  7470.000000   \n",
       "\n",
       "       unemployment_rate  \n",
       "count        4969.000000  \n",
       "mean            4.670759  \n",
       "std             2.756597  \n",
       "min             0.000000  \n",
       "25%             3.300000  \n",
       "50%             4.100000  \n",
       "75%             5.300000  \n",
       "max            66.700000  "
      ]
     },
     "execution_count": 93,
     "metadata": {},
     "output_type": "execute_result"
    }
   ],
   "source": [
    "census_sa2_pop_unemp_df_cleaned.describe()"
   ]
  },
  {
   "cell_type": "code",
   "execution_count": 94,
   "metadata": {},
   "outputs": [
    {
     "data": {
      "text/html": [
       "<div>\n",
       "<style scoped>\n",
       "    .dataframe tbody tr th:only-of-type {\n",
       "        vertical-align: middle;\n",
       "    }\n",
       "\n",
       "    .dataframe tbody tr th {\n",
       "        vertical-align: top;\n",
       "    }\n",
       "\n",
       "    .dataframe thead th {\n",
       "        text-align: right;\n",
       "    }\n",
       "</style>\n",
       "<table border=\"1\" class=\"dataframe\">\n",
       "  <thead>\n",
       "    <tr style=\"text-align: right;\">\n",
       "      <th></th>\n",
       "      <th>SA2_name</th>\n",
       "      <th>average_population</th>\n",
       "      <th>Median_age_persons</th>\n",
       "      <th>Median_mortgage_repay_monthly</th>\n",
       "      <th>Median_tot_prsnl_inc_weekly</th>\n",
       "      <th>Median_rent_weekly</th>\n",
       "      <th>Median_tot_fam_inc_weekly</th>\n",
       "      <th>Average_num_psns_per_bedroom</th>\n",
       "      <th>Median_tot_hhd_inc_weekly</th>\n",
       "      <th>Average_household_size</th>\n",
       "      <th>geometry</th>\n",
       "      <th>postcode</th>\n",
       "      <th>state</th>\n",
       "      <th>unemployment_rate</th>\n",
       "    </tr>\n",
       "  </thead>\n",
       "  <tbody>\n",
       "    <tr>\n",
       "      <th>0</th>\n",
       "      <td>Braidwood</td>\n",
       "      <td>4349.0</td>\n",
       "      <td>51</td>\n",
       "      <td>1732</td>\n",
       "      <td>760</td>\n",
       "      <td>330</td>\n",
       "      <td>1886</td>\n",
       "      <td>0.8</td>\n",
       "      <td>1429</td>\n",
       "      <td>2.2</td>\n",
       "      <td>POLYGON ((149.58424 -35.44426, 149.58444 -35.4...</td>\n",
       "      <td>2580</td>\n",
       "      <td>NSW</td>\n",
       "      <td>3.5</td>\n",
       "    </tr>\n",
       "    <tr>\n",
       "      <th>1</th>\n",
       "      <td>Braidwood</td>\n",
       "      <td>4349.0</td>\n",
       "      <td>51</td>\n",
       "      <td>1732</td>\n",
       "      <td>760</td>\n",
       "      <td>330</td>\n",
       "      <td>1886</td>\n",
       "      <td>0.8</td>\n",
       "      <td>1429</td>\n",
       "      <td>2.2</td>\n",
       "      <td>POLYGON ((149.58424 -35.44426, 149.58444 -35.4...</td>\n",
       "      <td>2622</td>\n",
       "      <td>NSW</td>\n",
       "      <td>3.5</td>\n",
       "    </tr>\n",
       "    <tr>\n",
       "      <th>2</th>\n",
       "      <td>Karabar</td>\n",
       "      <td>8538.0</td>\n",
       "      <td>38</td>\n",
       "      <td>1950</td>\n",
       "      <td>975</td>\n",
       "      <td>350</td>\n",
       "      <td>2334</td>\n",
       "      <td>0.8</td>\n",
       "      <td>1989</td>\n",
       "      <td>2.6</td>\n",
       "      <td>POLYGON ((149.21899 -35.36738, 149.218 -35.366...</td>\n",
       "      <td>2620</td>\n",
       "      <td>NSW</td>\n",
       "      <td>4.3</td>\n",
       "    </tr>\n",
       "    <tr>\n",
       "      <th>3</th>\n",
       "      <td>Queanbeyan</td>\n",
       "      <td>11382.5</td>\n",
       "      <td>37</td>\n",
       "      <td>1700</td>\n",
       "      <td>996</td>\n",
       "      <td>330</td>\n",
       "      <td>2233</td>\n",
       "      <td>0.9</td>\n",
       "      <td>1703</td>\n",
       "      <td>2.1</td>\n",
       "      <td>POLYGON ((149.21326 -35.34325, 149.21619 -35.3...</td>\n",
       "      <td>2620</td>\n",
       "      <td>ACT</td>\n",
       "      <td>4.2</td>\n",
       "    </tr>\n",
       "    <tr>\n",
       "      <th>4</th>\n",
       "      <td>Queanbeyan</td>\n",
       "      <td>11382.5</td>\n",
       "      <td>37</td>\n",
       "      <td>1700</td>\n",
       "      <td>996</td>\n",
       "      <td>330</td>\n",
       "      <td>2233</td>\n",
       "      <td>0.9</td>\n",
       "      <td>1703</td>\n",
       "      <td>2.1</td>\n",
       "      <td>POLYGON ((149.21326 -35.34325, 149.21619 -35.3...</td>\n",
       "      <td>2620</td>\n",
       "      <td>ACT</td>\n",
       "      <td>3.1</td>\n",
       "    </tr>\n",
       "  </tbody>\n",
       "</table>\n",
       "</div>"
      ],
      "text/plain": [
       "     SA2_name  average_population  Median_age_persons  \\\n",
       "0   Braidwood              4349.0                  51   \n",
       "1   Braidwood              4349.0                  51   \n",
       "2     Karabar              8538.0                  38   \n",
       "3  Queanbeyan             11382.5                  37   \n",
       "4  Queanbeyan             11382.5                  37   \n",
       "\n",
       "   Median_mortgage_repay_monthly  Median_tot_prsnl_inc_weekly  \\\n",
       "0                           1732                          760   \n",
       "1                           1732                          760   \n",
       "2                           1950                          975   \n",
       "3                           1700                          996   \n",
       "4                           1700                          996   \n",
       "\n",
       "   Median_rent_weekly  Median_tot_fam_inc_weekly  \\\n",
       "0                 330                       1886   \n",
       "1                 330                       1886   \n",
       "2                 350                       2334   \n",
       "3                 330                       2233   \n",
       "4                 330                       2233   \n",
       "\n",
       "   Average_num_psns_per_bedroom  Median_tot_hhd_inc_weekly  \\\n",
       "0                           0.8                       1429   \n",
       "1                           0.8                       1429   \n",
       "2                           0.8                       1989   \n",
       "3                           0.9                       1703   \n",
       "4                           0.9                       1703   \n",
       "\n",
       "   Average_household_size                                           geometry  \\\n",
       "0                     2.2  POLYGON ((149.58424 -35.44426, 149.58444 -35.4...   \n",
       "1                     2.2  POLYGON ((149.58424 -35.44426, 149.58444 -35.4...   \n",
       "2                     2.6  POLYGON ((149.21899 -35.36738, 149.218 -35.366...   \n",
       "3                     2.1  POLYGON ((149.21326 -35.34325, 149.21619 -35.3...   \n",
       "4                     2.1  POLYGON ((149.21326 -35.34325, 149.21619 -35.3...   \n",
       "\n",
       "   postcode state  unemployment_rate  \n",
       "0      2580   NSW                3.5  \n",
       "1      2622   NSW                3.5  \n",
       "2      2620   NSW                4.3  \n",
       "3      2620   ACT                4.2  \n",
       "4      2620   ACT                3.1  "
      ]
     },
     "execution_count": 94,
     "metadata": {},
     "output_type": "execute_result"
    }
   ],
   "source": [
    "census_sa2_pop_unemp_df_cleaned.head()"
   ]
  },
  {
   "cell_type": "code",
   "execution_count": 95,
   "metadata": {},
   "outputs": [],
   "source": [
    "# save the DataFrame as a CSV file\n",
    "census_sa2_pop_unemp_df_cleaned.to_csv('../data/curated/merged_external.csv', index=False)"
   ]
  },
  {
   "cell_type": "code",
   "execution_count": 96,
   "metadata": {},
   "outputs": [],
   "source": [
    "# drop the geometry column\n",
    "census_sa2_pop_unemp_df_cleaned = census_sa2_pop_unemp_df_cleaned.drop(columns=['geometry'])\n",
    "\n",
    "# convert the DataFrame as a Parquet file\n",
    "merged_external = spark.createDataFrame(census_sa2_pop_unemp_df_cleaned)\n",
    "\n",
    "# save the DataFrame as a Parquet file\n",
    "merged_external.write.parquet('../data/curated/merged_external', mode='overwrite')"
   ]
  }
 ],
 "metadata": {
  "kernelspec": {
   "display_name": "base",
   "language": "python",
   "name": "python3"
  },
  "language_info": {
   "codemirror_mode": {
    "name": "ipython",
    "version": 3
   },
   "file_extension": ".py",
   "mimetype": "text/x-python",
   "name": "python",
   "nbconvert_exporter": "python",
   "pygments_lexer": "ipython3",
   "version": "3.11.3"
  }
 },
 "nbformat": 4,
 "nbformat_minor": 2
}
